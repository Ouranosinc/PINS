{
 "cells": [
  {
   "cell_type": "markdown",
   "id": "acd8c57d-75fb-4b6c-b97a-475ff4fa1dc1",
   "metadata": {},
   "source": [
    "# Selecting simulation with an appropriate seasonality\n",
    "\n",
    "As pointed out in the paper, performing the bias adjustment is challenging if the raw simulation has a late season start / early season end. For this reason, we pre-selected simulations that reproduce the seasonality of the reference reasonably well. \n",
    "\n",
    "To this end, we extracted many simulations and computed the `snow_season_start` and `snow_season_end` indicators.\n",
    "\n",
    "This is just a reproduction of the analysis we made, we checked this with more simulations in the paper.\n",
    "This example shows two simulations that would be rejected with our criteria"
   ]
  },
  {
   "cell_type": "code",
   "execution_count": 114,
   "id": "6c953490-be6a-4bb4-9fc4-0dd8f16a1c60",
   "metadata": {},
   "outputs": [],
   "source": [
    "from xscen import DataCatalog, load_config,CONFIG\n",
    "import importlib \n",
    "from pathlib import Path\n",
    "import os \n",
    "from copy import deepcopy\n",
    "from itertools import product\n",
    "\n",
    "src_mods = []\n",
    "r_mods = [(\"src.\" + m,m) for m in src_mods] + [(\"utils\",\"u\")]\n",
    "cfgfiles = ['config/paths.yml', \"config/config.yml\", \"config/schemas.yml\"]\n",
    "\n",
    "# load\n",
    "modules = {short_key:importlib.import_module(mod_name) for mod_name,short_key in r_mods}\n",
    "globals().update(modules)\n",
    "load_config(*cfgfiles, verbose=(__name__ == '__main__'), reset=True)\n",
    "\n",
    "def reload(mods=modules): \n",
    "    global CONFIG,cfg\n",
    "    for mod in mods.values():\n",
    "        importlib.reload(mod)\n",
    "    load_config(*cfgfiles, verbose=(__name__ == '__main__'), reset=True)\n",
    "    cfg = deepcopy(CONFIG)\n",
    "\n",
    "pcat = DataCatalog(CONFIG[\"paths\"]['project_catalog'])\n"
   ]
  },
  {
   "cell_type": "markdown",
   "id": "02d47371-9c68-4e5b-bce6-cd6fadfb4aca",
   "metadata": {},
   "source": [
    "## Getting the simulations"
   ]
  },
  {
   "cell_type": "code",
   "execution_count": 311,
   "id": "efec13fc-389d-402a-be30-6be038bef1a1",
   "metadata": {},
   "outputs": [
    {
     "name": "stdout",
     "output_type": "stream",
     "text": [
      "\n",
      "--> The keys in the returned dictionary of datasets are constructed as follows:\n",
      "\t'id.domain.processing_level.xrfreq'\n"
     ]
    },
    {
     "data": {
      "text/html": [
       "\n",
       "<style>\n",
       "    /* Turns off some styling */\n",
       "    progress {\n",
       "        /* gets rid of default border in Firefox and Opera. */\n",
       "        border: none;\n",
       "        /* Needs to be in here for Safari polyfill so background images work as expected. */\n",
       "        background-size: auto;\n",
       "    }\n",
       "    progress:not([value]), progress:not([value])::-webkit-progress-bar {\n",
       "        background: repeating-linear-gradient(45deg, #7e7e7e, #7e7e7e 10px, #5c5c5c 10px, #5c5c5c 20px);\n",
       "    }\n",
       "    .progress-bar-interrupted, .progress-bar-interrupted::-webkit-progress-bar {\n",
       "        background: #F44336;\n",
       "    }\n",
       "</style>\n"
      ],
      "text/plain": [
       "<IPython.core.display.HTML object>"
      ]
     },
     "metadata": {},
     "output_type": "display_data"
    },
    {
     "name": "stderr",
     "output_type": "stream",
     "text": [
      "/exec/edupuis/.mamba/pins-8/lib/python3.13/site-packages/intake_esm/source.py:82: FutureWarning: In a future version of xarray decode_timedelta will default to False rather than None. To silence this warning, set decode_timedelta to True, False, or a 'CFTimedeltaCoder' instance.\n"
     ]
    },
    {
     "data": {
      "text/html": [
       "\n",
       "    <div>\n",
       "      <progress value='2' class='' max='2' style='width:300px; height:20px; vertical-align: middle;'></progress>\n",
       "      100.00% [2/2 00:00&lt;00:00]\n",
       "    </div>\n",
       "    "
      ],
      "text/plain": [
       "<IPython.core.display.HTML object>"
      ]
     },
     "metadata": {},
     "output_type": "display_data"
    },
    {
     "name": "stdout",
     "output_type": "stream",
     "text": [
      "\n",
      "--> The keys in the returned dictionary of datasets are constructed as follows:\n",
      "\t'id.domain.processing_level.xrfreq'\n"
     ]
    },
    {
     "data": {
      "text/html": [
       "\n",
       "<style>\n",
       "    /* Turns off some styling */\n",
       "    progress {\n",
       "        /* gets rid of default border in Firefox and Opera. */\n",
       "        border: none;\n",
       "        /* Needs to be in here for Safari polyfill so background images work as expected. */\n",
       "        background-size: auto;\n",
       "    }\n",
       "    progress:not([value]), progress:not([value])::-webkit-progress-bar {\n",
       "        background: repeating-linear-gradient(45deg, #7e7e7e, #7e7e7e 10px, #5c5c5c 10px, #5c5c5c 20px);\n",
       "    }\n",
       "    .progress-bar-interrupted, .progress-bar-interrupted::-webkit-progress-bar {\n",
       "        background: #F44336;\n",
       "    }\n",
       "</style>\n"
      ],
      "text/plain": [
       "<IPython.core.display.HTML object>"
      ]
     },
     "metadata": {},
     "output_type": "display_data"
    },
    {
     "name": "stderr",
     "output_type": "stream",
     "text": [
      "/exec/edupuis/.mamba/pins-8/lib/python3.13/site-packages/intake_esm/source.py:82: FutureWarning: In a future version of xarray decode_timedelta will default to False rather than None. To silence this warning, set decode_timedelta to True, False, or a 'CFTimedeltaCoder' instance.\n"
     ]
    },
    {
     "data": {
      "text/html": [
       "\n",
       "    <div>\n",
       "      <progress value='2' class='' max='2' style='width:300px; height:20px; vertical-align: middle;'></progress>\n",
       "      100.00% [2/2 00:00&lt;00:00]\n",
       "    </div>\n",
       "    "
      ],
      "text/plain": [
       "<IPython.core.display.HTML object>"
      ]
     },
     "metadata": {},
     "output_type": "display_data"
    },
    {
     "name": "stdout",
     "output_type": "stream",
     "text": [
      "\n",
      "--> The keys in the returned dictionary of datasets are constructed as follows:\n",
      "\t'id.domain.processing_level.xrfreq'\n"
     ]
    },
    {
     "data": {
      "text/html": [
       "\n",
       "<style>\n",
       "    /* Turns off some styling */\n",
       "    progress {\n",
       "        /* gets rid of default border in Firefox and Opera. */\n",
       "        border: none;\n",
       "        /* Needs to be in here for Safari polyfill so background images work as expected. */\n",
       "        background-size: auto;\n",
       "    }\n",
       "    progress:not([value]), progress:not([value])::-webkit-progress-bar {\n",
       "        background: repeating-linear-gradient(45deg, #7e7e7e, #7e7e7e 10px, #5c5c5c 10px, #5c5c5c 20px);\n",
       "    }\n",
       "    .progress-bar-interrupted, .progress-bar-interrupted::-webkit-progress-bar {\n",
       "        background: #F44336;\n",
       "    }\n",
       "</style>\n"
      ],
      "text/plain": [
       "<IPython.core.display.HTML object>"
      ]
     },
     "metadata": {},
     "output_type": "display_data"
    },
    {
     "data": {
      "text/html": [
       "\n",
       "    <div>\n",
       "      <progress value='2' class='' max='2' style='width:300px; height:20px; vertical-align: middle;'></progress>\n",
       "      100.00% [2/2 00:00&lt;00:00]\n",
       "    </div>\n",
       "    "
      ],
      "text/plain": [
       "<IPython.core.display.HTML object>"
      ]
     },
     "metadata": {},
     "output_type": "display_data"
    },
    {
     "name": "stderr",
     "output_type": "stream",
     "text": [
      "/exec/edupuis/.mamba/pins-8/lib/python3.13/site-packages/intake_esm/source.py:82: FutureWarning: In a future version of xarray decode_timedelta will default to False rather than None. To silence this warning, set decode_timedelta to True, False, or a 'CFTimedeltaCoder' instance.\n"
     ]
    },
    {
     "name": "stdout",
     "output_type": "stream",
     "text": [
      "\n",
      "--> The keys in the returned dictionary of datasets are constructed as follows:\n",
      "\t'id.domain.processing_level.xrfreq'\n"
     ]
    },
    {
     "data": {
      "text/html": [
       "\n",
       "<style>\n",
       "    /* Turns off some styling */\n",
       "    progress {\n",
       "        /* gets rid of default border in Firefox and Opera. */\n",
       "        border: none;\n",
       "        /* Needs to be in here for Safari polyfill so background images work as expected. */\n",
       "        background-size: auto;\n",
       "    }\n",
       "    progress:not([value]), progress:not([value])::-webkit-progress-bar {\n",
       "        background: repeating-linear-gradient(45deg, #7e7e7e, #7e7e7e 10px, #5c5c5c 10px, #5c5c5c 20px);\n",
       "    }\n",
       "    .progress-bar-interrupted, .progress-bar-interrupted::-webkit-progress-bar {\n",
       "        background: #F44336;\n",
       "    }\n",
       "</style>\n"
      ],
      "text/plain": [
       "<IPython.core.display.HTML object>"
      ]
     },
     "metadata": {},
     "output_type": "display_data"
    },
    {
     "data": {
      "text/html": [
       "\n",
       "    <div>\n",
       "      <progress value='2' class='' max='2' style='width:300px; height:20px; vertical-align: middle;'></progress>\n",
       "      100.00% [2/2 00:00&lt;00:00]\n",
       "    </div>\n",
       "    "
      ],
      "text/plain": [
       "<IPython.core.display.HTML object>"
      ]
     },
     "metadata": {},
     "output_type": "display_data"
    },
    {
     "name": "stderr",
     "output_type": "stream",
     "text": [
      "/exec/edupuis/.mamba/pins-8/lib/python3.13/site-packages/intake_esm/source.py:82: FutureWarning: In a future version of xarray decode_timedelta will default to False rather than None. To silence this warning, set decode_timedelta to True, False, or a 'CFTimedeltaCoder' instance.\n"
     ]
    },
    {
     "name": "stdout",
     "output_type": "stream",
     "text": [
      "\n",
      "--> The keys in the returned dictionary of datasets are constructed as follows:\n",
      "\t'id.domain.processing_level.xrfreq'\n"
     ]
    },
    {
     "data": {
      "text/html": [
       "\n",
       "<style>\n",
       "    /* Turns off some styling */\n",
       "    progress {\n",
       "        /* gets rid of default border in Firefox and Opera. */\n",
       "        border: none;\n",
       "        /* Needs to be in here for Safari polyfill so background images work as expected. */\n",
       "        background-size: auto;\n",
       "    }\n",
       "    progress:not([value]), progress:not([value])::-webkit-progress-bar {\n",
       "        background: repeating-linear-gradient(45deg, #7e7e7e, #7e7e7e 10px, #5c5c5c 10px, #5c5c5c 20px);\n",
       "    }\n",
       "    .progress-bar-interrupted, .progress-bar-interrupted::-webkit-progress-bar {\n",
       "        background: #F44336;\n",
       "    }\n",
       "</style>\n"
      ],
      "text/plain": [
       "<IPython.core.display.HTML object>"
      ]
     },
     "metadata": {},
     "output_type": "display_data"
    },
    {
     "data": {
      "text/html": [
       "\n",
       "    <div>\n",
       "      <progress value='2' class='' max='2' style='width:300px; height:20px; vertical-align: middle;'></progress>\n",
       "      100.00% [2/2 00:00&lt;00:00]\n",
       "    </div>\n",
       "    "
      ],
      "text/plain": [
       "<IPython.core.display.HTML object>"
      ]
     },
     "metadata": {},
     "output_type": "display_data"
    },
    {
     "name": "stderr",
     "output_type": "stream",
     "text": [
      "/exec/edupuis/.mamba/pins-8/lib/python3.13/site-packages/intake_esm/source.py:82: FutureWarning: In a future version of xarray decode_timedelta will default to False rather than None. To silence this warning, set decode_timedelta to True, False, or a 'CFTimedeltaCoder' instance.\n"
     ]
    }
   ],
   "source": [
    "reload()\n",
    "xrfreqs = set(pcat.search(processing_level=\"raw_indicators\").df.xrfreq)\n",
    "cat = pcat.search(processing_level=\"raw_indicators\", type=\"simulation\")\n",
    "dsd =  {}\n",
    "ref = xr.merge(pcat.search(processing_level=\"raw_indicators\", type=\"reconstruction\").to_dataset_dict().values())\n",
    "for idd in cat.df.id: \n",
    "    ds0 = xr.merge(cat.search(id=idd).to_dataset_dict().values())\n",
    "    newid = ds0.attrs[\"cat:experiment\"] + \"_\" + ds0.attrs[\"cat:source\"]\n",
    "    dsd[idd] = ds0\n"
   ]
  },
  {
   "cell_type": "markdown",
   "id": "71192868-5232-4aa0-ba93-92c2f9bcd4dc",
   "metadata": {},
   "source": [
    "## Compute the conditions\n",
    "\n",
    "We compute the proportion of grid points with  \n",
    "- `|sss_sim - sss_ref|<=10`\n",
    "- `|sse_sim - sse_ref|<=15`\n",
    "\n",
    "where (`sss=snw_season_start` and `sse=snw_season_end`). Simulations with a proportion of 80% or more grid points respecting these conditions were selected."
   ]
  },
  {
   "cell_type": "code",
   "execution_count": 324,
   "id": "29183889-096f-4f63-bbe8-9119eb933d79",
   "metadata": {},
   "outputs": [
    {
     "name": "stderr",
     "output_type": "stream",
     "text": [
      "/tmp/ipykernel_76610/640905000.py:4: DeprecationWarning: dropping variables using `drop` is deprecated; use drop_vars.\n",
      "/tmp/ipykernel_76610/640905000.py:7: DeprecationWarning: dropping variables using `drop` is deprecated; use drop_vars.\n",
      "/tmp/ipykernel_76610/640905000.py:4: DeprecationWarning: dropping variables using `drop` is deprecated; use drop_vars.\n",
      "/tmp/ipykernel_76610/640905000.py:7: DeprecationWarning: dropping variables using `drop` is deprecated; use drop_vars.\n"
     ]
    }
   ],
   "source": [
    "dsd0 = {}\n",
    "for k in dsd.keys(): \n",
    "    dsd0[k] = (np.abs(dsd[k]-ref))[[\"snw_season_start\", \"snw_season_end\"]]\n",
    "    dsd0[k] = dsd0[k].assign_coords(quantization_info=[0]).drop(\"quantization_info\")\n",
    "    dsd0[k][\"|sss_diff| <= 10\"] = dsd0[k][\"snw_season_start\"] <= 10\n",
    "    dsd0[k][\"|sse_diff| <= 15\"] = dsd0[k][\"snw_season_end\"] <= 15\n",
    "    dsd0[k] = dsd0[k].drop([\"snw_season_end\",\"snw_season_start\"])\n",
    "dsd0 = {k:dsd0[k].mean().assign_coords(c=[0]).to_dataframe() for k in dsd0.keys()}\n",
    "df = pd.concat(dsd0)"
   ]
  },
  {
   "cell_type": "markdown",
   "id": "b27e2fa6-54b8-4951-b1f2-c5b9cb242b49",
   "metadata": {},
   "source": [
    "## Plot"
   ]
  },
  {
   "cell_type": "code",
   "execution_count": 326,
   "id": "851660d5-b468-49ed-87db-31432aa80745",
   "metadata": {},
   "outputs": [
    {
     "data": {
      "text/plain": [
       "Text(50.58159722222218, 0.5, '')"
      ]
     },
     "execution_count": 326,
     "metadata": {},
     "output_type": "execute_result"
    },
    {
     "data": {
      "image/png": "[encoded data removed]",
      "text/plain": [
       "<Figure size 640x480 with 2 Axes>"
      ]
     },
     "metadata": {},
     "output_type": "display_data"
    }
   ],
   "source": [
    "from matplotlib.colors import BoundaryNorm, ListedColormap\n",
    "import matplotlib.pyplot as plt\n",
    "\n",
    "fig, ax = plt.subplots()\n",
    "cmap = sns.color_palette(\"Spectral\", as_cmap=True)  # Example continuous colormap\n",
    "num_levels = 20\n",
    "boundaries = np.linspace(0, 1, num_levels + 1)\n",
    "norm = BoundaryNorm(boundaries, ncolors=num_levels, clip=True)\n",
    "discrete_cmap = ListedColormap(cmap(np.linspace(0, 1, num_levels)))\n",
    "sns.heatmap(data=df,annot=True, cmap=discrete_cmap, vmin=0,vmax=1, cbar_kws={\"label\":\"Fraction of grid points respecting the condition\"}, ax=ax)\n",
    "ax.set_yticklabels(ax.get_yticklabels(), rotation=0)\n",
    "ax.set_ylabel(\"\")"
   ]
  }
 ],
 "metadata": {
  "kernelspec": {
   "display_name": "Python 3 (ipykernel)",
   "language": "python",
   "name": "python3"
  },
  "language_info": {
   "codemirror_mode": {
    "name": "ipython",
    "version": 3
   },
   "file_extension": ".py",
   "mimetype": "text/x-python",
   "name": "python",
   "nbconvert_exporter": "python",
   "pygments_lexer": "ipython3",
   "version": "3.13.3"
  }
 },
 "nbformat": 4,
 "nbformat_minor": 5
}
