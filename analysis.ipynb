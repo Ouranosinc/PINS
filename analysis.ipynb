{
 "cells": [
  {
   "cell_type": "code",
   "execution_count": 114,
   "id": "6c953490-be6a-4bb4-9fc4-0dd8f16a1c60",
   "metadata": {},
   "outputs": [],
   "source": [
    "from xscen import DataCatalog, load_config,CONFIG\n",
    "import importlib \n",
    "from pathlib import Path\n",
    "import os \n",
    "from copy import deepcopy\n",
    "from itertools import product\n",
    "\n",
    "src_mods = []\n",
    "r_mods = [(\"src.\" + m,m) for m in src_mods] + [(\"utils\",\"u\")]\n",
    "cfgfiles = ['config/paths.yml', \"config/config.yml\", \"config/schemas.yml\"]\n",
    "\n",
    "# load\n",
    "modules = {short_key:importlib.import_module(mod_name) for mod_name,short_key in r_mods}\n",
    "globals().update(modules)\n",
    "load_config(*cfgfiles, verbose=(__name__ == '__main__'), reset=True)\n",
    "\n",
    "def reload(mods=modules): \n",
    "    global CONFIG,cfg\n",
    "    for mod in mods.values():\n",
    "        importlib.reload(mod)\n",
    "    load_config(*cfgfiles, verbose=(__name__ == '__main__'), reset=True)\n",
    "    cfg = deepcopy(CONFIG)\n",
    "\n",
    "pcat = DataCatalog(CONFIG[\"paths\"]['project_catalog'])\n"
   ]
  },
  {
   "cell_type": "markdown",
   "id": "02d47371-9c68-4e5b-bce6-cd6fadfb4aca",
   "metadata": {},
   "source": [
    "# Simulation pre-selection"
   ]
  },
  {
   "cell_type": "code",
   "execution_count": 311,
   "id": "efec13fc-389d-402a-be30-6be038bef1a1",
   "metadata": {},
   "outputs": [
    {
     "name": "stdout",
     "output_type": "stream",
     "text": [
      "\n",
      "--> The keys in the returned dictionary of datasets are constructed as follows:\n",
      "\t'id.domain.processing_level.xrfreq'\n"
     ]
    },
    {
     "data": {
      "text/html": [
       "\n",
       "<style>\n",
       "    /* Turns off some styling */\n",
       "    progress {\n",
       "        /* gets rid of default border in Firefox and Opera. */\n",
       "        border: none;\n",
       "        /* Needs to be in here for Safari polyfill so background images work as expected. */\n",
       "        background-size: auto;\n",
       "    }\n",
       "    progress:not([value]), progress:not([value])::-webkit-progress-bar {\n",
       "        background: repeating-linear-gradient(45deg, #7e7e7e, #7e7e7e 10px, #5c5c5c 10px, #5c5c5c 20px);\n",
       "    }\n",
       "    .progress-bar-interrupted, .progress-bar-interrupted::-webkit-progress-bar {\n",
       "        background: #F44336;\n",
       "    }\n",
       "</style>\n"
      ],
      "text/plain": [
       "<IPython.core.display.HTML object>"
      ]
     },
     "metadata": {},
     "output_type": "display_data"
    },
    {
     "name": "stderr",
     "output_type": "stream",
     "text": [
      "/exec/edupuis/.mamba/pins-8/lib/python3.13/site-packages/intake_esm/source.py:82: FutureWarning: In a future version of xarray decode_timedelta will default to False rather than None. To silence this warning, set decode_timedelta to True, False, or a 'CFTimedeltaCoder' instance.\n"
     ]
    },
    {
     "data": {
      "text/html": [
       "\n",
       "    <div>\n",
       "      <progress value='2' class='' max='2' style='width:300px; height:20px; vertical-align: middle;'></progress>\n",
       "      100.00% [2/2 00:00&lt;00:00]\n",
       "    </div>\n",
       "    "
      ],
      "text/plain": [
       "<IPython.core.display.HTML object>"
      ]
     },
     "metadata": {},
     "output_type": "display_data"
    },
    {
     "name": "stdout",
     "output_type": "stream",
     "text": [
      "\n",
      "--> The keys in the returned dictionary of datasets are constructed as follows:\n",
      "\t'id.domain.processing_level.xrfreq'\n"
     ]
    },
    {
     "data": {
      "text/html": [
       "\n",
       "<style>\n",
       "    /* Turns off some styling */\n",
       "    progress {\n",
       "        /* gets rid of default border in Firefox and Opera. */\n",
       "        border: none;\n",
       "        /* Needs to be in here for Safari polyfill so background images work as expected. */\n",
       "        background-size: auto;\n",
       "    }\n",
       "    progress:not([value]), progress:not([value])::-webkit-progress-bar {\n",
       "        background: repeating-linear-gradient(45deg, #7e7e7e, #7e7e7e 10px, #5c5c5c 10px, #5c5c5c 20px);\n",
       "    }\n",
       "    .progress-bar-interrupted, .progress-bar-interrupted::-webkit-progress-bar {\n",
       "        background: #F44336;\n",
       "    }\n",
       "</style>\n"
      ],
      "text/plain": [
       "<IPython.core.display.HTML object>"
      ]
     },
     "metadata": {},
     "output_type": "display_data"
    },
    {
     "name": "stderr",
     "output_type": "stream",
     "text": [
      "/exec/edupuis/.mamba/pins-8/lib/python3.13/site-packages/intake_esm/source.py:82: FutureWarning: In a future version of xarray decode_timedelta will default to False rather than None. To silence this warning, set decode_timedelta to True, False, or a 'CFTimedeltaCoder' instance.\n"
     ]
    },
    {
     "data": {
      "text/html": [
       "\n",
       "    <div>\n",
       "      <progress value='2' class='' max='2' style='width:300px; height:20px; vertical-align: middle;'></progress>\n",
       "      100.00% [2/2 00:00&lt;00:00]\n",
       "    </div>\n",
       "    "
      ],
      "text/plain": [
       "<IPython.core.display.HTML object>"
      ]
     },
     "metadata": {},
     "output_type": "display_data"
    },
    {
     "name": "stdout",
     "output_type": "stream",
     "text": [
      "\n",
      "--> The keys in the returned dictionary of datasets are constructed as follows:\n",
      "\t'id.domain.processing_level.xrfreq'\n"
     ]
    },
    {
     "data": {
      "text/html": [
       "\n",
       "<style>\n",
       "    /* Turns off some styling */\n",
       "    progress {\n",
       "        /* gets rid of default border in Firefox and Opera. */\n",
       "        border: none;\n",
       "        /* Needs to be in here for Safari polyfill so background images work as expected. */\n",
       "        background-size: auto;\n",
       "    }\n",
       "    progress:not([value]), progress:not([value])::-webkit-progress-bar {\n",
       "        background: repeating-linear-gradient(45deg, #7e7e7e, #7e7e7e 10px, #5c5c5c 10px, #5c5c5c 20px);\n",
       "    }\n",
       "    .progress-bar-interrupted, .progress-bar-interrupted::-webkit-progress-bar {\n",
       "        background: #F44336;\n",
       "    }\n",
       "</style>\n"
      ],
      "text/plain": [
       "<IPython.core.display.HTML object>"
      ]
     },
     "metadata": {},
     "output_type": "display_data"
    },
    {
     "data": {
      "text/html": [
       "\n",
       "    <div>\n",
       "      <progress value='2' class='' max='2' style='width:300px; height:20px; vertical-align: middle;'></progress>\n",
       "      100.00% [2/2 00:00&lt;00:00]\n",
       "    </div>\n",
       "    "
      ],
      "text/plain": [
       "<IPython.core.display.HTML object>"
      ]
     },
     "metadata": {},
     "output_type": "display_data"
    },
    {
     "name": "stderr",
     "output_type": "stream",
     "text": [
      "/exec/edupuis/.mamba/pins-8/lib/python3.13/site-packages/intake_esm/source.py:82: FutureWarning: In a future version of xarray decode_timedelta will default to False rather than None. To silence this warning, set decode_timedelta to True, False, or a 'CFTimedeltaCoder' instance.\n"
     ]
    },
    {
     "name": "stdout",
     "output_type": "stream",
     "text": [
      "\n",
      "--> The keys in the returned dictionary of datasets are constructed as follows:\n",
      "\t'id.domain.processing_level.xrfreq'\n"
     ]
    },
    {
     "data": {
      "text/html": [
       "\n",
       "<style>\n",
       "    /* Turns off some styling */\n",
       "    progress {\n",
       "        /* gets rid of default border in Firefox and Opera. */\n",
       "        border: none;\n",
       "        /* Needs to be in here for Safari polyfill so background images work as expected. */\n",
       "        background-size: auto;\n",
       "    }\n",
       "    progress:not([value]), progress:not([value])::-webkit-progress-bar {\n",
       "        background: repeating-linear-gradient(45deg, #7e7e7e, #7e7e7e 10px, #5c5c5c 10px, #5c5c5c 20px);\n",
       "    }\n",
       "    .progress-bar-interrupted, .progress-bar-interrupted::-webkit-progress-bar {\n",
       "        background: #F44336;\n",
       "    }\n",
       "</style>\n"
      ],
      "text/plain": [
       "<IPython.core.display.HTML object>"
      ]
     },
     "metadata": {},
     "output_type": "display_data"
    },
    {
     "data": {
      "text/html": [
       "\n",
       "    <div>\n",
       "      <progress value='2' class='' max='2' style='width:300px; height:20px; vertical-align: middle;'></progress>\n",
       "      100.00% [2/2 00:00&lt;00:00]\n",
       "    </div>\n",
       "    "
      ],
      "text/plain": [
       "<IPython.core.display.HTML object>"
      ]
     },
     "metadata": {},
     "output_type": "display_data"
    },
    {
     "name": "stderr",
     "output_type": "stream",
     "text": [
      "/exec/edupuis/.mamba/pins-8/lib/python3.13/site-packages/intake_esm/source.py:82: FutureWarning: In a future version of xarray decode_timedelta will default to False rather than None. To silence this warning, set decode_timedelta to True, False, or a 'CFTimedeltaCoder' instance.\n"
     ]
    },
    {
     "name": "stdout",
     "output_type": "stream",
     "text": [
      "\n",
      "--> The keys in the returned dictionary of datasets are constructed as follows:\n",
      "\t'id.domain.processing_level.xrfreq'\n"
     ]
    },
    {
     "data": {
      "text/html": [
       "\n",
       "<style>\n",
       "    /* Turns off some styling */\n",
       "    progress {\n",
       "        /* gets rid of default border in Firefox and Opera. */\n",
       "        border: none;\n",
       "        /* Needs to be in here for Safari polyfill so background images work as expected. */\n",
       "        background-size: auto;\n",
       "    }\n",
       "    progress:not([value]), progress:not([value])::-webkit-progress-bar {\n",
       "        background: repeating-linear-gradient(45deg, #7e7e7e, #7e7e7e 10px, #5c5c5c 10px, #5c5c5c 20px);\n",
       "    }\n",
       "    .progress-bar-interrupted, .progress-bar-interrupted::-webkit-progress-bar {\n",
       "        background: #F44336;\n",
       "    }\n",
       "</style>\n"
      ],
      "text/plain": [
       "<IPython.core.display.HTML object>"
      ]
     },
     "metadata": {},
     "output_type": "display_data"
    },
    {
     "data": {
      "text/html": [
       "\n",
       "    <div>\n",
       "      <progress value='2' class='' max='2' style='width:300px; height:20px; vertical-align: middle;'></progress>\n",
       "      100.00% [2/2 00:00&lt;00:00]\n",
       "    </div>\n",
       "    "
      ],
      "text/plain": [
       "<IPython.core.display.HTML object>"
      ]
     },
     "metadata": {},
     "output_type": "display_data"
    },
    {
     "name": "stderr",
     "output_type": "stream",
     "text": [
      "/exec/edupuis/.mamba/pins-8/lib/python3.13/site-packages/intake_esm/source.py:82: FutureWarning: In a future version of xarray decode_timedelta will default to False rather than None. To silence this warning, set decode_timedelta to True, False, or a 'CFTimedeltaCoder' instance.\n"
     ]
    }
   ],
   "source": [
    "reload()\n",
    "xrfreqs = set(pcat.search(processing_level=\"raw_indicators\").df.xrfreq)\n",
    "cat = pcat.search(processing_level=\"raw_indicators\", type=\"simulation\")\n",
    "dsd =  {}\n",
    "ref = xr.merge(pcat.search(processing_level=\"raw_indicators\", type=\"reconstruction\").to_dataset_dict().values())\n",
    "for idd in cat.df.id: \n",
    "    ds0 = xr.merge(cat.search(id=idd).to_dataset_dict().values())\n",
    "    newid = ds0.attrs[\"cat:experiment\"] + \"_\" + ds0.attrs[\"cat:source\"]\n",
    "    dsd[idd] = ds0\n"
   ]
  },
  {
   "cell_type": "code",
   "execution_count": 324,
   "id": "29183889-096f-4f63-bbe8-9119eb933d79",
   "metadata": {},
   "outputs": [
    {
     "name": "stderr",
     "output_type": "stream",
     "text": [
      "/tmp/ipykernel_76610/640905000.py:4: DeprecationWarning: dropping variables using `drop` is deprecated; use drop_vars.\n",
      "/tmp/ipykernel_76610/640905000.py:7: DeprecationWarning: dropping variables using `drop` is deprecated; use drop_vars.\n",
      "/tmp/ipykernel_76610/640905000.py:4: DeprecationWarning: dropping variables using `drop` is deprecated; use drop_vars.\n",
      "/tmp/ipykernel_76610/640905000.py:7: DeprecationWarning: dropping variables using `drop` is deprecated; use drop_vars.\n"
     ]
    }
   ],
   "source": [
    "dsd0 = {}\n",
    "for k in dsd.keys(): \n",
    "    dsd0[k] = (np.abs(dsd[k]-ref))[[\"snw_season_start\", \"snw_season_end\"]]\n",
    "    dsd0[k] = dsd0[k].assign_coords(quantization_info=[0]).drop(\"quantization_info\")\n",
    "    dsd0[k][\"|sss_diff| <= 10\"] = dsd0[k][\"snw_season_start\"] <= 10\n",
    "    dsd0[k][\"|sse_diff| <= 15\"] = dsd0[k][\"snw_season_end\"] <= 15\n",
    "    dsd0[k] = dsd0[k].drop([\"snw_season_end\",\"snw_season_start\"])\n",
    "dsd0 = {k:dsd0[k].mean().assign_coords(c=[0]).to_dataframe() for k in dsd0.keys()}\n",
    "df = pd.concat(dsd0)"
   ]
  },
  {
   "cell_type": "code",
   "execution_count": 325,
   "id": "851660d5-b468-49ed-87db-31432aa80745",
   "metadata": {},
   "outputs": [
    {
     "data": {
      "text/plain": [
       "Text(50.58159722222218, 0.5, '')"
      ]
     },
     "execution_count": 325,
     "metadata": {},
     "output_type": "execute_result"
    },
    {
     "data": {
      "image/png": "[encoded data removed]",
      "text/plain": [
       "<Figure size 640x480 with 2 Axes>"
      ]
     },
     "metadata": {},
     "output_type": "display_data"
    }
   ],
   "source": [
    "from matplotlib.colors import BoundaryNorm, ListedColormap\n",
    "import matplotlib.pyplot as plt\n",
    "\n",
    "fig, ax = plt.subplots()\n",
    "cmap = sns.color_palette(\"Spectral\", as_cmap=True)  # Example continuous colormap\n",
    "num_levels = 20\n",
    "boundaries = np.linspace(0, 1, num_levels + 1)\n",
    "norm = BoundaryNorm(boundaries, ncolors=num_levels, clip=True)\n",
    "discrete_cmap = ListedColormap(cmap(np.linspace(0, 1, num_levels)))\n",
    "sns.heatmap(data=df,annot=True, cmap=discrete_cmap, vmin=0,vmax=1, cbar_kws={\"label\":\"Fraction of non-excedding grid points\"}, ax=ax)\n",
    "ax.set_yticklabels(ax.get_yticklabels(), rotation=0)\n",
    "ax.set_ylabel(\"\")"
   ]
  },
  {
   "cell_type": "markdown",
   "id": "61e27af0-ad8a-4a61-b138-e4640415f218",
   "metadata": {
    "jp-MarkdownHeadingCollapsed": true
   },
   "source": [
    "## old data"
   ]
  },
  {
   "cell_type": "code",
   "execution_count": 221,
   "id": "e9490558-fa74-4d17-a4e2-9335d6642331",
   "metadata": {},
   "outputs": [
    {
     "name": "stderr",
     "output_type": "stream",
     "text": [
      "/tmp/ipykernel_76610/1499106296.py:4: FutureWarning: In a future version of xarray decode_timedelta will default to False rather than None. To silence this warning, set decode_timedelta to True, False, or a 'CFTimedeltaCoder' instance.\n",
      "/tmp/ipykernel_76610/1499106296.py:5: FutureWarning: In a future version of xarray decode_timedelta will default to False rather than None. To silence this warning, set decode_timedelta to True, False, or a 'CFTimedeltaCoder' instance.\n",
      "/tmp/ipykernel_76610/1499106296.py:5: FutureWarning: In a future version of xarray decode_timedelta will default to False rather than None. To silence this warning, set decode_timedelta to True, False, or a 'CFTimedeltaCoder' instance.\n",
      "/tmp/ipykernel_76610/1499106296.py:5: FutureWarning: In a future version of xarray decode_timedelta will default to False rather than None. To silence this warning, set decode_timedelta to True, False, or a 'CFTimedeltaCoder' instance.\n",
      "/tmp/ipykernel_76610/1499106296.py:5: FutureWarning: In a future version of xarray decode_timedelta will default to False rather than None. To silence this warning, set decode_timedelta to True, False, or a 'CFTimedeltaCoder' instance.\n"
     ]
    },
    {
     "ename": "KeyError",
     "evalue": "'snw_season_start'",
     "output_type": "error",
     "traceback": [
      "\u001b[31m---------------------------------------------------------------------------\u001b[39m",
      "\u001b[31mKeyError\u001b[39m                                  Traceback (most recent call last)",
      "\u001b[32m/exec/edupuis/.mamba/pins-8/lib/python3.13/site-packages/xarray/core/dataset.py\u001b[39m in \u001b[36m?\u001b[39m\u001b[34m(self, names)\u001b[39m\n\u001b[32m   1168\u001b[39m                 variables[name] = self._variables[name]\n\u001b[32m   1169\u001b[39m             \u001b[38;5;28;01mexcept\u001b[39;00m KeyError:\n\u001b[32m-> \u001b[39m\u001b[32m1170\u001b[39m                 ref_name, var_name, var = _get_virtual_variable(\n\u001b[32m   1171\u001b[39m                     self._variables, name, self.sizes\n",
      "\u001b[31mKeyError\u001b[39m: 'snw_season_start'",
      "\nDuring handling of the above exception, another exception occurred:\n",
      "\u001b[31mKeyError\u001b[39m                                  Traceback (most recent call last)",
      "\u001b[36mCell\u001b[39m\u001b[36m \u001b[39m\u001b[32mIn[221]\u001b[39m\u001b[32m, line 5\u001b[39m\n\u001b[32m      3\u001b[39m files = glob.glob(\u001b[33mf\u001b[39m\u001b[33m\"\u001b[39m\u001b[38;5;132;01m{\u001b[39;00mfile\u001b[38;5;132;01m}\u001b[39;00m\u001b[33m/*raw_indicators.yr.zarr\u001b[39m\u001b[33m\"\u001b[39m)\n\u001b[32m      4\u001b[39m ref = [xr.open_zarr(f) \u001b[38;5;28;01mfor\u001b[39;00m f \u001b[38;5;129;01min\u001b[39;00m files \u001b[38;5;28;01mif\u001b[39;00m \u001b[33m\"\u001b[39m\u001b[33mERA5\u001b[39m\u001b[33m\"\u001b[39m \u001b[38;5;129;01min\u001b[39;00m f]\n\u001b[32m----> \u001b[39m\u001b[32m5\u001b[39m sims = {(f.split(\u001b[33m\"\u001b[39m\u001b[33m/\u001b[39m\u001b[33m\"\u001b[39m)[-\u001b[32m1\u001b[39m]).split(\u001b[33m\"\u001b[39m\u001b[33m.\u001b[39m\u001b[33m\"\u001b[39m)[\u001b[32m0\u001b[39m]:(\u001b[43mxr\u001b[49m\u001b[43m.\u001b[49m\u001b[43mopen_zarr\u001b[49m\u001b[43m(\u001b[49m\u001b[43mf\u001b[49m\u001b[43m)\u001b[49m\u001b[43m[\u001b[49m\u001b[43m[\u001b[49m\u001b[33;43m\"\u001b[39;49m\u001b[33;43msnw_season_start\u001b[39;49m\u001b[33;43m\"\u001b[39;49m\u001b[43m]\u001b[49m\u001b[43m]\u001b[49m).convert_calendar(\u001b[33m\"\u001b[39m\u001b[33m365_day\u001b[39m\u001b[33m\"\u001b[39m,align_on=\u001b[33m\"\u001b[39m\u001b[33mdate\u001b[39m\u001b[33m\"\u001b[39m) \u001b[38;5;28;01mfor\u001b[39;00m f \u001b[38;5;129;01min\u001b[39;00m files \u001b[38;5;28;01mif\u001b[39;00m \u001b[33m\"\u001b[39m\u001b[33mERA5\u001b[39m\u001b[33m\"\u001b[39m \u001b[38;5;129;01mnot\u001b[39;00m \u001b[38;5;129;01min\u001b[39;00m f}\n",
      "\u001b[36mFile \u001b[39m\u001b[32m/exec/edupuis/.mamba/pins-8/lib/python3.13/site-packages/xarray/core/dataset.py:1321\u001b[39m, in \u001b[36mDataset.__getitem__\u001b[39m\u001b[34m(self, key)\u001b[39m\n\u001b[32m   1318\u001b[39m         \u001b[38;5;28;01mraise\u001b[39;00m \u001b[38;5;167;01mKeyError\u001b[39;00m(message) \u001b[38;5;28;01mfrom\u001b[39;00m\u001b[38;5;250m \u001b[39m\u001b[34;01me\u001b[39;00m\n\u001b[32m   1320\u001b[39m \u001b[38;5;28;01mif\u001b[39;00m utils.iterable_of_hashable(key):\n\u001b[32m-> \u001b[39m\u001b[32m1321\u001b[39m     \u001b[38;5;28;01mreturn\u001b[39;00m \u001b[38;5;28;43mself\u001b[39;49m\u001b[43m.\u001b[49m\u001b[43m_copy_listed\u001b[49m\u001b[43m(\u001b[49m\u001b[43mkey\u001b[49m\u001b[43m)\u001b[49m\n\u001b[32m   1322\u001b[39m \u001b[38;5;28;01mraise\u001b[39;00m \u001b[38;5;167;01mValueError\u001b[39;00m(\u001b[33mf\u001b[39m\u001b[33m\"\u001b[39m\u001b[33mUnsupported key-type \u001b[39m\u001b[38;5;132;01m{\u001b[39;00m\u001b[38;5;28mtype\u001b[39m(key)\u001b[38;5;132;01m}\u001b[39;00m\u001b[33m\"\u001b[39m)\n",
      "\u001b[36mFile \u001b[39m\u001b[32m/exec/edupuis/.mamba/pins-8/lib/python3.13/site-packages/xarray/core/dataset.py:1170\u001b[39m, in \u001b[36mDataset._copy_listed\u001b[39m\u001b[34m(self, names)\u001b[39m\n\u001b[32m   1168\u001b[39m     variables[name] = \u001b[38;5;28mself\u001b[39m._variables[name]\n\u001b[32m   1169\u001b[39m \u001b[38;5;28;01mexcept\u001b[39;00m \u001b[38;5;167;01mKeyError\u001b[39;00m:\n\u001b[32m-> \u001b[39m\u001b[32m1170\u001b[39m     ref_name, var_name, var = \u001b[43m_get_virtual_variable\u001b[49m\u001b[43m(\u001b[49m\n\u001b[32m   1171\u001b[39m \u001b[43m        \u001b[49m\u001b[38;5;28;43mself\u001b[39;49m\u001b[43m.\u001b[49m\u001b[43m_variables\u001b[49m\u001b[43m,\u001b[49m\u001b[43m \u001b[49m\u001b[43mname\u001b[49m\u001b[43m,\u001b[49m\u001b[43m \u001b[49m\u001b[38;5;28;43mself\u001b[39;49m\u001b[43m.\u001b[49m\u001b[43msizes\u001b[49m\n\u001b[32m   1172\u001b[39m \u001b[43m    \u001b[49m\u001b[43m)\u001b[49m\n\u001b[32m   1173\u001b[39m     variables[var_name] = var\n\u001b[32m   1174\u001b[39m     \u001b[38;5;28;01mif\u001b[39;00m ref_name \u001b[38;5;129;01min\u001b[39;00m \u001b[38;5;28mself\u001b[39m._coord_names \u001b[38;5;129;01mor\u001b[39;00m ref_name \u001b[38;5;129;01min\u001b[39;00m \u001b[38;5;28mself\u001b[39m.dims:\n",
      "\u001b[36mFile \u001b[39m\u001b[32m/exec/edupuis/.mamba/pins-8/lib/python3.13/site-packages/xarray/core/dataset_utils.py:79\u001b[39m, in \u001b[36m_get_virtual_variable\u001b[39m\u001b[34m(variables, key, dim_sizes)\u001b[39m\n\u001b[32m     77\u001b[39m split_key = key.split(\u001b[33m\"\u001b[39m\u001b[33m.\u001b[39m\u001b[33m\"\u001b[39m, \u001b[32m1\u001b[39m)\n\u001b[32m     78\u001b[39m \u001b[38;5;28;01mif\u001b[39;00m \u001b[38;5;28mlen\u001b[39m(split_key) != \u001b[32m2\u001b[39m:\n\u001b[32m---> \u001b[39m\u001b[32m79\u001b[39m     \u001b[38;5;28;01mraise\u001b[39;00m \u001b[38;5;167;01mKeyError\u001b[39;00m(key)\n\u001b[32m     81\u001b[39m ref_name, var_name = split_key\n\u001b[32m     82\u001b[39m ref_var = variables[ref_name]\n",
      "\u001b[31mKeyError\u001b[39m: 'snw_season_start'"
     ]
    }
   ],
   "source": [
    "import glob \n",
    "file = \"/jarre/edupuis/pins/resources_ref-hist-fut/\"\n",
    "files = glob.glob(f\"{file}/*raw_indicators.yr.zarr\")\n",
    "ref = [xr.open_zarr(f) for f in files if \"ERA5\" in f]\n",
    "sims = {(f.split(\"/\")[-1]).split(\".\")[0]:(xr.open_zarr(f)[[\"snw_season_start\"]]).convert_calendar(\"365_day\",align_on=\"date\") for f in files if \"ERA5\" not in f}\n"
   ]
  },
  {
   "cell_type": "code",
   "execution_count": 219,
   "id": "5fb8741b-e2ff-400e-ae66-13088d6c2f59",
   "metadata": {},
   "outputs": [
    {
     "ename": "AttributeError",
     "evalue": "'Dataset' object has no attribute 'snw_season_duration'",
     "output_type": "error",
     "traceback": [
      "\u001b[31m---------------------------------------------------------------------------\u001b[39m",
      "\u001b[31mAttributeError\u001b[39m                            Traceback (most recent call last)",
      "\u001b[36mCell\u001b[39m\u001b[36m \u001b[39m\u001b[32mIn[219]\u001b[39m\u001b[32m, line 1\u001b[39m\n\u001b[32m----> \u001b[39m\u001b[32m1\u001b[39m \u001b[43msims\u001b[49m\u001b[43m[\u001b[49m\u001b[33;43m'\u001b[39;49m\u001b[33;43mCMIP5_CORDEX_MOHC-HadGEM2-ES_ISU_ISU-RegCM4_rcp85_r1i1p1_NAM-22\u001b[39;49m\u001b[33;43m'\u001b[39;49m\u001b[43m]\u001b[49m\u001b[43m.\u001b[49m\u001b[43msnw_season_duration\u001b[49m.dtype\n",
      "\u001b[36mFile \u001b[39m\u001b[32m/exec/edupuis/.mamba/pins-8/lib/python3.13/site-packages/xarray/core/common.py:306\u001b[39m, in \u001b[36mAttrAccessMixin.__getattr__\u001b[39m\u001b[34m(self, name)\u001b[39m\n\u001b[32m    304\u001b[39m         \u001b[38;5;28;01mwith\u001b[39;00m suppress(\u001b[38;5;167;01mKeyError\u001b[39;00m):\n\u001b[32m    305\u001b[39m             \u001b[38;5;28;01mreturn\u001b[39;00m source[name]\n\u001b[32m--> \u001b[39m\u001b[32m306\u001b[39m \u001b[38;5;28;01mraise\u001b[39;00m \u001b[38;5;167;01mAttributeError\u001b[39;00m(\n\u001b[32m    307\u001b[39m     \u001b[33mf\u001b[39m\u001b[33m\"\u001b[39m\u001b[38;5;132;01m{\u001b[39;00m\u001b[38;5;28mtype\u001b[39m(\u001b[38;5;28mself\u001b[39m).\u001b[34m__name__\u001b[39m\u001b[38;5;132;01m!r}\u001b[39;00m\u001b[33m object has no attribute \u001b[39m\u001b[38;5;132;01m{\u001b[39;00mname\u001b[38;5;132;01m!r}\u001b[39;00m\u001b[33m\"\u001b[39m\n\u001b[32m    308\u001b[39m )\n",
      "\u001b[31mAttributeError\u001b[39m: 'Dataset' object has no attribute 'snw_season_duration'"
     ]
    }
   ],
   "source": [
    "sims['CMIP5_CORDEX_MOHC-HadGEM2-ES_ISU_ISU-RegCM4_rcp85_r1i1p1_NAM-22'].snw_season_duration.dtype"
   ]
  },
  {
   "cell_type": "code",
   "execution_count": 207,
   "id": "2fe8d878-7457-4754-b872-cafb0a6ef607",
   "metadata": {},
   "outputs": [
    {
     "ename": "DTypePromotionError",
     "evalue": "The DType <class 'numpy.dtypes.TimeDelta64DType'> could not be promoted by <class 'numpy.dtypes._PyFloatDType'>. This means that no common DType exists for the given inputs. For example they cannot be stored in a single array unless the dtype is `object`. The full list of DTypes is: (<class 'numpy.dtypes.TimeDelta64DType'>, <class 'numpy.dtypes._PyFloatDType'>)",
     "output_type": "error",
     "traceback": [
      "\u001b[31m---------------------------------------------------------------------------\u001b[39m",
      "\u001b[31mDTypePromotionError\u001b[39m                       Traceback (most recent call last)",
      "\u001b[36mCell\u001b[39m\u001b[36m \u001b[39m\u001b[32mIn[207]\u001b[39m\u001b[32m, line 1\u001b[39m\n\u001b[32m----> \u001b[39m\u001b[32m1\u001b[39m \u001b[43mu\u001b[49m\u001b[43m.\u001b[49m\u001b[43mcbcl\u001b[49m\u001b[43m(\u001b[49m\u001b[43msims\u001b[49m\u001b[43m)\u001b[49m\n",
      "\u001b[36mFile \u001b[39m\u001b[32m/exec/edupuis/prj/PINS/utils.py:462\u001b[39m, in \u001b[36mcbcl\u001b[39m\u001b[34m(dsl, lab)\u001b[39m\n\u001b[32m    460\u001b[39m \u001b[38;5;28;01mdef\u001b[39;00m\u001b[38;5;250m \u001b[39m\u001b[34mcbcl\u001b[39m(dsl, lab=\u001b[33m\"\u001b[39m\u001b[33m_combine_dim\u001b[39m\u001b[33m\"\u001b[39m):\n\u001b[32m    461\u001b[39m     \u001b[38;5;28;01mif\u001b[39;00m \u001b[38;5;28misinstance\u001b[39m(dsl, \u001b[38;5;28mdict\u001b[39m):\n\u001b[32m--> \u001b[39m\u001b[32m462\u001b[39m         out = \u001b[43mcbc\u001b[49m\u001b[43m(\u001b[49m\u001b[43m[\u001b[49m\u001b[43mds\u001b[49m\u001b[43m.\u001b[49m\u001b[43mexpand_dims\u001b[49m\u001b[43m(\u001b[49m\u001b[43m{\u001b[49m\u001b[43mlab\u001b[49m\u001b[43m:\u001b[49m\u001b[43m \u001b[49m\u001b[43m[\u001b[49m\u001b[43mk\u001b[49m\u001b[43m]\u001b[49m\u001b[43m}\u001b[49m\u001b[43m)\u001b[49m\u001b[43m \u001b[49m\u001b[38;5;28;43;01mfor\u001b[39;49;00m\u001b[43m \u001b[49m\u001b[43mk\u001b[49m\u001b[43m,\u001b[49m\u001b[43m \u001b[49m\u001b[43mds\u001b[49m\u001b[43m \u001b[49m\u001b[38;5;129;43;01min\u001b[39;49;00m\u001b[43m \u001b[49m\u001b[43mdsl\u001b[49m\u001b[43m.\u001b[49m\u001b[43mitems\u001b[49m\u001b[43m(\u001b[49m\u001b[43m)\u001b[49m\u001b[43m]\u001b[49m\u001b[43m)\u001b[49m\n\u001b[32m    463\u001b[39m     \u001b[38;5;28;01mif\u001b[39;00m \u001b[38;5;28misinstance\u001b[39m(dsl, \u001b[38;5;28mlist\u001b[39m):\n\u001b[32m    464\u001b[39m         out = cbc([ds.expand_dims({lab: [k]}) \u001b[38;5;28;01mfor\u001b[39;00m k, ds \u001b[38;5;129;01min\u001b[39;00m \u001b[38;5;28mzip\u001b[39m(*dsl)])\n",
      "\u001b[36mFile \u001b[39m\u001b[32m/exec/edupuis/prj/PINS/utils.py:456\u001b[39m, in \u001b[36mcbc\u001b[39m\u001b[34m(dsl)\u001b[39m\n\u001b[32m    454\u001b[39m ds = dsl[\u001b[32m0\u001b[39m]\n\u001b[32m    455\u001b[39m \u001b[38;5;28;01mfor\u001b[39;00m dsi \u001b[38;5;129;01min\u001b[39;00m dsl[\u001b[32m1\u001b[39m:]:\n\u001b[32m--> \u001b[39m\u001b[32m456\u001b[39m     ds = \u001b[43mds\u001b[49m\u001b[43m.\u001b[49m\u001b[43mcombine_first\u001b[49m\u001b[43m(\u001b[49m\u001b[43mdsi\u001b[49m\u001b[43m)\u001b[49m\n\u001b[32m    457\u001b[39m \u001b[38;5;28;01mreturn\u001b[39;00m ds\n",
      "\u001b[36mFile \u001b[39m\u001b[32m/exec/edupuis/.mamba/pins-8/lib/python3.13/site-packages/xarray/core/dataset.py:6694\u001b[39m, in \u001b[36mDataset.combine_first\u001b[39m\u001b[34m(self, other)\u001b[39m\n\u001b[32m   6678\u001b[39m \u001b[38;5;28;01mdef\u001b[39;00m\u001b[38;5;250m \u001b[39m\u001b[34mcombine_first\u001b[39m(\u001b[38;5;28mself\u001b[39m, other: Self) -> Self:\n\u001b[32m   6679\u001b[39m \u001b[38;5;250m    \u001b[39m\u001b[33;03m\"\"\"Combine two Datasets, default to data_vars of self.\u001b[39;00m\n\u001b[32m   6680\u001b[39m \n\u001b[32m   6681\u001b[39m \u001b[33;03m    The new coordinates follow the normal broadcasting and alignment rules\u001b[39;00m\n\u001b[32m   (...)\u001b[39m\u001b[32m   6692\u001b[39m \u001b[33;03m    Dataset\u001b[39;00m\n\u001b[32m   6693\u001b[39m \u001b[33;03m    \"\"\"\u001b[39;00m\n\u001b[32m-> \u001b[39m\u001b[32m6694\u001b[39m     out = \u001b[43mops\u001b[49m\u001b[43m.\u001b[49m\u001b[43mfillna\u001b[49m\u001b[43m(\u001b[49m\u001b[38;5;28;43mself\u001b[39;49m\u001b[43m,\u001b[49m\u001b[43m \u001b[49m\u001b[43mother\u001b[49m\u001b[43m,\u001b[49m\u001b[43m \u001b[49m\u001b[43mjoin\u001b[49m\u001b[43m=\u001b[49m\u001b[33;43m\"\u001b[39;49m\u001b[33;43mouter\u001b[39;49m\u001b[33;43m\"\u001b[39;49m\u001b[43m,\u001b[49m\u001b[43m \u001b[49m\u001b[43mdataset_join\u001b[49m\u001b[43m=\u001b[49m\u001b[33;43m\"\u001b[39;49m\u001b[33;43mouter\u001b[39;49m\u001b[33;43m\"\u001b[39;49m\u001b[43m)\u001b[49m\n\u001b[32m   6695\u001b[39m     \u001b[38;5;28;01mreturn\u001b[39;00m out\n",
      "\u001b[36mFile \u001b[39m\u001b[32m/exec/edupuis/.mamba/pins-8/lib/python3.13/site-packages/xarray/computation/ops.py:149\u001b[39m, in \u001b[36mfillna\u001b[39m\u001b[34m(data, other, join, dataset_join)\u001b[39m\n\u001b[32m    125\u001b[39m \u001b[38;5;250m\u001b[39m\u001b[33;03m\"\"\"Fill missing values in this object with data from the other object.\u001b[39;00m\n\u001b[32m    126\u001b[39m \u001b[33;03mFollows normal broadcasting and alignment rules.\u001b[39;00m\n\u001b[32m    127\u001b[39m \n\u001b[32m   (...)\u001b[39m\u001b[32m    145\u001b[39m \u001b[33;03m    - \"right\": take only variables from the last object\u001b[39;00m\n\u001b[32m    146\u001b[39m \u001b[33;03m\"\"\"\u001b[39;00m\n\u001b[32m    147\u001b[39m \u001b[38;5;28;01mfrom\u001b[39;00m\u001b[38;5;250m \u001b[39m\u001b[34;01mxarray\u001b[39;00m\u001b[34;01m.\u001b[39;00m\u001b[34;01mcomputation\u001b[39;00m\u001b[34;01m.\u001b[39;00m\u001b[34;01mapply_ufunc\u001b[39;00m\u001b[38;5;250m \u001b[39m\u001b[38;5;28;01mimport\u001b[39;00m apply_ufunc\n\u001b[32m--> \u001b[39m\u001b[32m149\u001b[39m \u001b[38;5;28;01mreturn\u001b[39;00m \u001b[43mapply_ufunc\u001b[49m\u001b[43m(\u001b[49m\n\u001b[32m    150\u001b[39m \u001b[43m    \u001b[49m\u001b[43mduck_array_ops\u001b[49m\u001b[43m.\u001b[49m\u001b[43mfillna\u001b[49m\u001b[43m,\u001b[49m\n\u001b[32m    151\u001b[39m \u001b[43m    \u001b[49m\u001b[43mdata\u001b[49m\u001b[43m,\u001b[49m\n\u001b[32m    152\u001b[39m \u001b[43m    \u001b[49m\u001b[43mother\u001b[49m\u001b[43m,\u001b[49m\n\u001b[32m    153\u001b[39m \u001b[43m    \u001b[49m\u001b[43mjoin\u001b[49m\u001b[43m=\u001b[49m\u001b[43mjoin\u001b[49m\u001b[43m,\u001b[49m\n\u001b[32m    154\u001b[39m \u001b[43m    \u001b[49m\u001b[43mdask\u001b[49m\u001b[43m=\u001b[49m\u001b[33;43m\"\u001b[39;49m\u001b[33;43mallowed\u001b[39;49m\u001b[33;43m\"\u001b[39;49m\u001b[43m,\u001b[49m\n\u001b[32m    155\u001b[39m \u001b[43m    \u001b[49m\u001b[43mdataset_join\u001b[49m\u001b[43m=\u001b[49m\u001b[43mdataset_join\u001b[49m\u001b[43m,\u001b[49m\n\u001b[32m    156\u001b[39m \u001b[43m    \u001b[49m\u001b[43mdataset_fill_value\u001b[49m\u001b[43m=\u001b[49m\u001b[43mnp\u001b[49m\u001b[43m.\u001b[49m\u001b[43mnan\u001b[49m\u001b[43m,\u001b[49m\n\u001b[32m    157\u001b[39m \u001b[43m    \u001b[49m\u001b[43mkeep_attrs\u001b[49m\u001b[43m=\u001b[49m\u001b[38;5;28;43;01mTrue\u001b[39;49;00m\u001b[43m,\u001b[49m\n\u001b[32m    158\u001b[39m \u001b[43m\u001b[49m\u001b[43m)\u001b[49m\n",
      "\u001b[36mFile \u001b[39m\u001b[32m/exec/edupuis/.mamba/pins-8/lib/python3.13/site-packages/xarray/computation/apply_ufunc.py:1255\u001b[39m, in \u001b[36mapply_ufunc\u001b[39m\u001b[34m(func, input_core_dims, output_core_dims, exclude_dims, vectorize, join, dataset_join, dataset_fill_value, keep_attrs, kwargs, dask, output_dtypes, output_sizes, meta, dask_gufunc_kwargs, on_missing_core_dim, *args)\u001b[39m\n\u001b[32m   1253\u001b[39m \u001b[38;5;66;03m# feed datasets apply_variable_ufunc through apply_dataset_vfunc\u001b[39;00m\n\u001b[32m   1254\u001b[39m \u001b[38;5;28;01melif\u001b[39;00m \u001b[38;5;28many\u001b[39m(is_dict_like(a) \u001b[38;5;28;01mfor\u001b[39;00m a \u001b[38;5;129;01min\u001b[39;00m args):\n\u001b[32m-> \u001b[39m\u001b[32m1255\u001b[39m     \u001b[38;5;28;01mreturn\u001b[39;00m \u001b[43mapply_dataset_vfunc\u001b[49m\u001b[43m(\u001b[49m\n\u001b[32m   1256\u001b[39m \u001b[43m        \u001b[49m\u001b[43mvariables_vfunc\u001b[49m\u001b[43m,\u001b[49m\n\u001b[32m   1257\u001b[39m \u001b[43m        \u001b[49m\u001b[43m*\u001b[49m\u001b[43margs\u001b[49m\u001b[43m,\u001b[49m\n\u001b[32m   1258\u001b[39m \u001b[43m        \u001b[49m\u001b[43msignature\u001b[49m\u001b[43m=\u001b[49m\u001b[43msignature\u001b[49m\u001b[43m,\u001b[49m\n\u001b[32m   1259\u001b[39m \u001b[43m        \u001b[49m\u001b[43mjoin\u001b[49m\u001b[43m=\u001b[49m\u001b[43mjoin\u001b[49m\u001b[43m,\u001b[49m\n\u001b[32m   1260\u001b[39m \u001b[43m        \u001b[49m\u001b[43mexclude_dims\u001b[49m\u001b[43m=\u001b[49m\u001b[43mexclude_dims\u001b[49m\u001b[43m,\u001b[49m\n\u001b[32m   1261\u001b[39m \u001b[43m        \u001b[49m\u001b[43mdataset_join\u001b[49m\u001b[43m=\u001b[49m\u001b[43mdataset_join\u001b[49m\u001b[43m,\u001b[49m\n\u001b[32m   1262\u001b[39m \u001b[43m        \u001b[49m\u001b[43mfill_value\u001b[49m\u001b[43m=\u001b[49m\u001b[43mdataset_fill_value\u001b[49m\u001b[43m,\u001b[49m\n\u001b[32m   1263\u001b[39m \u001b[43m        \u001b[49m\u001b[43mkeep_attrs\u001b[49m\u001b[43m=\u001b[49m\u001b[43mkeep_attrs\u001b[49m\u001b[43m,\u001b[49m\n\u001b[32m   1264\u001b[39m \u001b[43m        \u001b[49m\u001b[43mon_missing_core_dim\u001b[49m\u001b[43m=\u001b[49m\u001b[43mon_missing_core_dim\u001b[49m\u001b[43m,\u001b[49m\n\u001b[32m   1265\u001b[39m \u001b[43m    \u001b[49m\u001b[43m)\u001b[49m\n\u001b[32m   1266\u001b[39m \u001b[38;5;66;03m# feed DataArray apply_variable_ufunc through apply_dataarray_vfunc\u001b[39;00m\n\u001b[32m   1267\u001b[39m \u001b[38;5;28;01melif\u001b[39;00m \u001b[38;5;28many\u001b[39m(\u001b[38;5;28misinstance\u001b[39m(a, DataArray) \u001b[38;5;28;01mfor\u001b[39;00m a \u001b[38;5;129;01min\u001b[39;00m args):\n",
      "\u001b[36mFile \u001b[39m\u001b[32m/exec/edupuis/.mamba/pins-8/lib/python3.13/site-packages/xarray/computation/apply_ufunc.py:526\u001b[39m, in \u001b[36mapply_dataset_vfunc\u001b[39m\u001b[34m(func, signature, join, dataset_join, fill_value, exclude_dims, keep_attrs, on_missing_core_dim, *args)\u001b[39m\n\u001b[32m    521\u001b[39m list_of_coords, list_of_indexes = build_output_coords_and_indexes(\n\u001b[32m    522\u001b[39m     args, signature, exclude_dims, combine_attrs=keep_attrs\n\u001b[32m    523\u001b[39m )\n\u001b[32m    524\u001b[39m args = \u001b[38;5;28mtuple\u001b[39m(\u001b[38;5;28mgetattr\u001b[39m(arg, \u001b[33m\"\u001b[39m\u001b[33mdata_vars\u001b[39m\u001b[33m\"\u001b[39m, arg) \u001b[38;5;28;01mfor\u001b[39;00m arg \u001b[38;5;129;01min\u001b[39;00m args)\n\u001b[32m--> \u001b[39m\u001b[32m526\u001b[39m result_vars = \u001b[43mapply_dict_of_variables_vfunc\u001b[49m\u001b[43m(\u001b[49m\n\u001b[32m    527\u001b[39m \u001b[43m    \u001b[49m\u001b[43mfunc\u001b[49m\u001b[43m,\u001b[49m\n\u001b[32m    528\u001b[39m \u001b[43m    \u001b[49m\u001b[43m*\u001b[49m\u001b[43margs\u001b[49m\u001b[43m,\u001b[49m\n\u001b[32m    529\u001b[39m \u001b[43m    \u001b[49m\u001b[43msignature\u001b[49m\u001b[43m=\u001b[49m\u001b[43msignature\u001b[49m\u001b[43m,\u001b[49m\n\u001b[32m    530\u001b[39m \u001b[43m    \u001b[49m\u001b[43mjoin\u001b[49m\u001b[43m=\u001b[49m\u001b[43mdataset_join\u001b[49m\u001b[43m,\u001b[49m\n\u001b[32m    531\u001b[39m \u001b[43m    \u001b[49m\u001b[43mfill_value\u001b[49m\u001b[43m=\u001b[49m\u001b[43mfill_value\u001b[49m\u001b[43m,\u001b[49m\n\u001b[32m    532\u001b[39m \u001b[43m    \u001b[49m\u001b[43mon_missing_core_dim\u001b[49m\u001b[43m=\u001b[49m\u001b[43mon_missing_core_dim\u001b[49m\u001b[43m,\u001b[49m\n\u001b[32m    533\u001b[39m \u001b[43m\u001b[49m\u001b[43m)\u001b[49m\n\u001b[32m    535\u001b[39m out: Dataset | \u001b[38;5;28mtuple\u001b[39m[Dataset, ...]\n\u001b[32m    536\u001b[39m \u001b[38;5;28;01mif\u001b[39;00m signature.num_outputs > \u001b[32m1\u001b[39m:\n",
      "\u001b[36mFile \u001b[39m\u001b[32m/exec/edupuis/.mamba/pins-8/lib/python3.13/site-packages/xarray/computation/apply_ufunc.py:450\u001b[39m, in \u001b[36mapply_dict_of_variables_vfunc\u001b[39m\u001b[34m(func, signature, join, fill_value, on_missing_core_dim, *args)\u001b[39m\n\u001b[32m    448\u001b[39m core_dim_present = _check_core_dims(signature, variable_args, name)\n\u001b[32m    449\u001b[39m \u001b[38;5;28;01mif\u001b[39;00m core_dim_present \u001b[38;5;129;01mis\u001b[39;00m \u001b[38;5;28;01mTrue\u001b[39;00m:\n\u001b[32m--> \u001b[39m\u001b[32m450\u001b[39m     result_vars[name] = \u001b[43mfunc\u001b[49m\u001b[43m(\u001b[49m\u001b[43m*\u001b[49m\u001b[43mvariable_args\u001b[49m\u001b[43m)\u001b[49m\n\u001b[32m    451\u001b[39m \u001b[38;5;28;01melse\u001b[39;00m:\n\u001b[32m    452\u001b[39m     \u001b[38;5;28;01mif\u001b[39;00m on_missing_core_dim == \u001b[33m\"\u001b[39m\u001b[33mraise\u001b[39m\u001b[33m\"\u001b[39m:\n",
      "\u001b[36mFile \u001b[39m\u001b[32m/exec/edupuis/.mamba/pins-8/lib/python3.13/site-packages/xarray/computation/apply_ufunc.py:821\u001b[39m, in \u001b[36mapply_variable_ufunc\u001b[39m\u001b[34m(func, signature, exclude_dims, dask, output_dtypes, vectorize, keep_attrs, dask_gufunc_kwargs, *args)\u001b[39m\n\u001b[32m    816\u001b[39m     \u001b[38;5;28;01mif\u001b[39;00m vectorize:\n\u001b[32m    817\u001b[39m         func = _vectorize(\n\u001b[32m    818\u001b[39m             func, signature, output_dtypes=output_dtypes, exclude_dims=exclude_dims\n\u001b[32m    819\u001b[39m         )\n\u001b[32m--> \u001b[39m\u001b[32m821\u001b[39m result_data = \u001b[43mfunc\u001b[49m\u001b[43m(\u001b[49m\u001b[43m*\u001b[49m\u001b[43minput_data\u001b[49m\u001b[43m)\u001b[49m\n\u001b[32m    823\u001b[39m \u001b[38;5;28;01mif\u001b[39;00m signature.num_outputs == \u001b[32m1\u001b[39m:\n\u001b[32m    824\u001b[39m     result_data = (result_data,)\n",
      "\u001b[36mFile \u001b[39m\u001b[32m/exec/edupuis/.mamba/pins-8/lib/python3.13/site-packages/xarray/core/duck_array_ops.py:400\u001b[39m, in \u001b[36mfillna\u001b[39m\u001b[34m(data, other)\u001b[39m\n\u001b[32m    396\u001b[39m \u001b[38;5;28;01mdef\u001b[39;00m\u001b[38;5;250m \u001b[39m\u001b[34mfillna\u001b[39m(data, other):\n\u001b[32m    397\u001b[39m     \u001b[38;5;66;03m# we need to pass data first so pint has a chance of returning the\u001b[39;00m\n\u001b[32m    398\u001b[39m     \u001b[38;5;66;03m# correct unit\u001b[39;00m\n\u001b[32m    399\u001b[39m     \u001b[38;5;66;03m# TODO: revert after https://github.com/hgrecco/pint/issues/1019 is fixed\u001b[39;00m\n\u001b[32m--> \u001b[39m\u001b[32m400\u001b[39m     \u001b[38;5;28;01mreturn\u001b[39;00m \u001b[43mwhere\u001b[49m\u001b[43m(\u001b[49m\u001b[43mnotnull\u001b[49m\u001b[43m(\u001b[49m\u001b[43mdata\u001b[49m\u001b[43m)\u001b[49m\u001b[43m,\u001b[49m\u001b[43m \u001b[49m\u001b[43mdata\u001b[49m\u001b[43m,\u001b[49m\u001b[43m \u001b[49m\u001b[43mother\u001b[49m\u001b[43m)\u001b[49m\n",
      "\u001b[36mFile \u001b[39m\u001b[32m/exec/edupuis/.mamba/pins-8/lib/python3.13/site-packages/xarray/core/duck_array_ops.py:387\u001b[39m, in \u001b[36mwhere\u001b[39m\u001b[34m(condition, x, y)\u001b[39m\n\u001b[32m    384\u001b[39m \u001b[38;5;28;01melse\u001b[39;00m:\n\u001b[32m    385\u001b[39m     condition = astype(condition, dtype=dtype, xp=xp)\n\u001b[32m--> \u001b[39m\u001b[32m387\u001b[39m \u001b[38;5;28;01mreturn\u001b[39;00m xp.where(condition, *\u001b[43mas_shared_dtype\u001b[49m\u001b[43m(\u001b[49m\u001b[43m[\u001b[49m\u001b[43mx\u001b[49m\u001b[43m,\u001b[49m\u001b[43m \u001b[49m\u001b[43my\u001b[49m\u001b[43m]\u001b[49m\u001b[43m,\u001b[49m\u001b[43m \u001b[49m\u001b[43mxp\u001b[49m\u001b[43m=\u001b[49m\u001b[43mxp\u001b[49m\u001b[43m)\u001b[49m)\n",
      "\u001b[36mFile \u001b[39m\u001b[32m/exec/edupuis/.mamba/pins-8/lib/python3.13/site-packages/xarray/core/duck_array_ops.py:281\u001b[39m, in \u001b[36mas_shared_dtype\u001b[39m\u001b[34m(scalars_or_arrays, xp)\u001b[39m\n\u001b[32m    275\u001b[39m     xp = get_array_namespace(scalars_or_arrays)\n\u001b[32m    277\u001b[39m \u001b[38;5;66;03m# Pass arrays directly instead of dtypes to result_type so scalars\u001b[39;00m\n\u001b[32m    278\u001b[39m \u001b[38;5;66;03m# get handled properly.\u001b[39;00m\n\u001b[32m    279\u001b[39m \u001b[38;5;66;03m# Note that result_type() safely gets the dtype from dask arrays without\u001b[39;00m\n\u001b[32m    280\u001b[39m \u001b[38;5;66;03m# evaluating them.\u001b[39;00m\n\u001b[32m--> \u001b[39m\u001b[32m281\u001b[39m dtype = \u001b[43mdtypes\u001b[49m\u001b[43m.\u001b[49m\u001b[43mresult_type\u001b[49m\u001b[43m(\u001b[49m\u001b[43m*\u001b[49m\u001b[43mscalars_or_arrays\u001b[49m\u001b[43m,\u001b[49m\u001b[43m \u001b[49m\u001b[43mxp\u001b[49m\u001b[43m=\u001b[49m\u001b[43mxp\u001b[49m\u001b[43m)\u001b[49m\n\u001b[32m    283\u001b[39m \u001b[38;5;28;01mreturn\u001b[39;00m [asarray(x, dtype=dtype, xp=xp) \u001b[38;5;28;01mfor\u001b[39;00m x \u001b[38;5;129;01min\u001b[39;00m scalars_or_arrays]\n",
      "\u001b[36mFile \u001b[39m\u001b[32m/exec/edupuis/.mamba/pins-8/lib/python3.13/site-packages/xarray/core/dtypes.py:279\u001b[39m, in \u001b[36mresult_type\u001b[39m\u001b[34m(xp, *arrays_and_dtypes)\u001b[39m\n\u001b[32m    274\u001b[39m         \u001b[38;5;28;01mif\u001b[39;00m \u001b[38;5;28many\u001b[39m(np.issubdtype(t, left) \u001b[38;5;28;01mfor\u001b[39;00m t \u001b[38;5;129;01min\u001b[39;00m types) \u001b[38;5;129;01mand\u001b[39;00m \u001b[38;5;28many\u001b[39m(\n\u001b[32m    275\u001b[39m             np.issubdtype(t, right) \u001b[38;5;28;01mfor\u001b[39;00m t \u001b[38;5;129;01min\u001b[39;00m types\n\u001b[32m    276\u001b[39m         ):\n\u001b[32m    277\u001b[39m             \u001b[38;5;28;01mreturn\u001b[39;00m np.dtype(\u001b[38;5;28mobject\u001b[39m)\n\u001b[32m--> \u001b[39m\u001b[32m279\u001b[39m \u001b[38;5;28;01mreturn\u001b[39;00m \u001b[43marray_api_compat\u001b[49m\u001b[43m.\u001b[49m\u001b[43mresult_type\u001b[49m\u001b[43m(\u001b[49m\n\u001b[32m    280\u001b[39m \u001b[43m    \u001b[49m\u001b[43m*\u001b[49m\u001b[38;5;28;43mmap\u001b[39;49m\u001b[43m(\u001b[49m\u001b[43mpreprocess_types\u001b[49m\u001b[43m,\u001b[49m\u001b[43m \u001b[49m\u001b[43marrays_and_dtypes\u001b[49m\u001b[43m)\u001b[49m\u001b[43m,\u001b[49m\u001b[43m \u001b[49m\u001b[43mxp\u001b[49m\u001b[43m=\u001b[49m\u001b[43mxp\u001b[49m\n\u001b[32m    281\u001b[39m \u001b[43m\u001b[49m\u001b[43m)\u001b[49m\n",
      "\u001b[36mFile \u001b[39m\u001b[32m/exec/edupuis/.mamba/pins-8/lib/python3.13/site-packages/xarray/compat/array_api_compat.py:44\u001b[39m, in \u001b[36mresult_type\u001b[39m\u001b[34m(xp, *arrays_and_dtypes)\u001b[39m\n\u001b[32m     40\u001b[39m \u001b[38;5;28;01mdef\u001b[39;00m\u001b[38;5;250m \u001b[39m\u001b[34mresult_type\u001b[39m(*arrays_and_dtypes, xp) -> np.dtype:\n\u001b[32m     41\u001b[39m     \u001b[38;5;28;01mif\u001b[39;00m xp \u001b[38;5;129;01mis\u001b[39;00m np \u001b[38;5;129;01mor\u001b[39;00m \u001b[38;5;28many\u001b[39m(\n\u001b[32m     42\u001b[39m         \u001b[38;5;28misinstance\u001b[39m(\u001b[38;5;28mgetattr\u001b[39m(t, \u001b[33m\"\u001b[39m\u001b[33mdtype\u001b[39m\u001b[33m\"\u001b[39m, t), np.dtype) \u001b[38;5;28;01mfor\u001b[39;00m t \u001b[38;5;129;01min\u001b[39;00m arrays_and_dtypes\n\u001b[32m     43\u001b[39m     ):\n\u001b[32m---> \u001b[39m\u001b[32m44\u001b[39m         \u001b[38;5;28;01mreturn\u001b[39;00m \u001b[43mxp\u001b[49m\u001b[43m.\u001b[49m\u001b[43mresult_type\u001b[49m\u001b[43m(\u001b[49m\u001b[43m*\u001b[49m\u001b[43marrays_and_dtypes\u001b[49m\u001b[43m)\u001b[49m\n\u001b[32m     45\u001b[39m     \u001b[38;5;28;01melse\u001b[39;00m:\n\u001b[32m     46\u001b[39m         \u001b[38;5;28;01mreturn\u001b[39;00m _future_array_api_result_type(*arrays_and_dtypes, xp=xp)\n",
      "\u001b[36mFile \u001b[39m\u001b[32m/exec/edupuis/.mamba/pins-8/lib/python3.13/site-packages/dask/array/core.py:1787\u001b[39m, in \u001b[36mArray.__array_function__\u001b[39m\u001b[34m(self, func, types, args, kwargs)\u001b[39m\n\u001b[32m   1784\u001b[39m \u001b[38;5;28;01mif\u001b[39;00m has_keyword(da_func, \u001b[33m\"\u001b[39m\u001b[33mlike\u001b[39m\u001b[33m\"\u001b[39m):\n\u001b[32m   1785\u001b[39m     kwargs[\u001b[33m\"\u001b[39m\u001b[33mlike\u001b[39m\u001b[33m\"\u001b[39m] = \u001b[38;5;28mself\u001b[39m\n\u001b[32m-> \u001b[39m\u001b[32m1787\u001b[39m \u001b[38;5;28;01mreturn\u001b[39;00m \u001b[43mda_func\u001b[49m\u001b[43m(\u001b[49m\u001b[43m*\u001b[49m\u001b[43margs\u001b[49m\u001b[43m,\u001b[49m\u001b[43m \u001b[49m\u001b[43m*\u001b[49m\u001b[43m*\u001b[49m\u001b[43mkwargs\u001b[49m\u001b[43m)\u001b[49m\n",
      "\u001b[36mFile \u001b[39m\u001b[32m/exec/edupuis/.mamba/pins-8/lib/python3.13/site-packages/dask/array/routines.py:67\u001b[39m, in \u001b[36mresult_type\u001b[39m\u001b[34m(*args)\u001b[39m\n\u001b[32m     64\u001b[39m \u001b[38;5;129m@derived_from\u001b[39m(np)\n\u001b[32m     65\u001b[39m \u001b[38;5;28;01mdef\u001b[39;00m\u001b[38;5;250m \u001b[39m\u001b[34mresult_type\u001b[39m(*args):\n\u001b[32m     66\u001b[39m     args = [a \u001b[38;5;28;01mif\u001b[39;00m is_scalar_for_elemwise(a) \u001b[38;5;28;01melse\u001b[39;00m a.dtype \u001b[38;5;28;01mfor\u001b[39;00m a \u001b[38;5;129;01min\u001b[39;00m args]\n\u001b[32m---> \u001b[39m\u001b[32m67\u001b[39m     \u001b[38;5;28;01mreturn\u001b[39;00m \u001b[43mnp\u001b[49m\u001b[43m.\u001b[49m\u001b[43mresult_type\u001b[49m\u001b[43m(\u001b[49m\u001b[43m*\u001b[49m\u001b[43margs\u001b[49m\u001b[43m)\u001b[49m\n",
      "\u001b[31mDTypePromotionError\u001b[39m: The DType <class 'numpy.dtypes.TimeDelta64DType'> could not be promoted by <class 'numpy.dtypes._PyFloatDType'>. This means that no common DType exists for the given inputs. For example they cannot be stored in a single array unless the dtype is `object`. The full list of DTypes is: (<class 'numpy.dtypes.TimeDelta64DType'>, <class 'numpy.dtypes._PyFloatDType'>)"
     ]
    }
   ],
   "source": [
    "u.cbcl(sims)"
   ]
  },
  {
   "cell_type": "code",
   "execution_count": 193,
   "id": "49c38892-4598-4938-90a5-3721d8d45815",
   "metadata": {},
   "outputs": [
    {
     "ename": "KeyboardInterrupt",
     "evalue": "",
     "output_type": "error",
     "traceback": [
      "\u001b[31m---------------------------------------------------------------------------\u001b[39m",
      "\u001b[31mKeyboardInterrupt\u001b[39m                         Traceback (most recent call last)",
      "\u001b[36mCell\u001b[39m\u001b[36m \u001b[39m\u001b[32mIn[193]\u001b[39m\u001b[32m, line 2\u001b[39m\n\u001b[32m      1\u001b[39m \u001b[38;5;66;03m# ref = ref[0]\u001b[39;00m\n\u001b[32m----> \u001b[39m\u001b[32m2\u001b[39m sims = \u001b[43mxr\u001b[49m\u001b[43m.\u001b[49m\u001b[43mmerge\u001b[49m\u001b[43m(\u001b[49m\u001b[43m[\u001b[49m\u001b[43ms\u001b[49m\u001b[43m.\u001b[49m\u001b[43mconvert_calendar\u001b[49m\u001b[43m(\u001b[49m\u001b[33;43m\"\u001b[39;49m\u001b[33;43m365_day\u001b[39;49m\u001b[33;43m\"\u001b[39;49m\u001b[43m,\u001b[49m\u001b[43m \u001b[49m\u001b[43malign_on\u001b[49m\u001b[43m=\u001b[49m\u001b[33;43m\"\u001b[39;49m\u001b[33;43myear\u001b[39;49m\u001b[33;43m\"\u001b[39;49m\u001b[43m)\u001b[49m\u001b[43m \u001b[49m\u001b[38;5;28;43;01mfor\u001b[39;49;00m\u001b[43m \u001b[49m\u001b[43ms\u001b[49m\u001b[43m \u001b[49m\u001b[38;5;129;43;01min\u001b[39;49;00m\u001b[43m \u001b[49m\u001b[43msims\u001b[49m\u001b[43m]\u001b[49m\u001b[43m)\u001b[49m\n",
      "\u001b[36mFile \u001b[39m\u001b[32m/exec/edupuis/.mamba/pins-8/lib/python3.13/site-packages/xarray/structure/merge.py:977\u001b[39m, in \u001b[36mmerge\u001b[39m\u001b[34m(objects, compat, join, fill_value, combine_attrs)\u001b[39m\n\u001b[32m    974\u001b[39m         obj = obj.to_dataset()\n\u001b[32m    975\u001b[39m     dict_like_objects.append(obj)\n\u001b[32m--> \u001b[39m\u001b[32m977\u001b[39m merge_result = \u001b[43mmerge_core\u001b[49m\u001b[43m(\u001b[49m\n\u001b[32m    978\u001b[39m \u001b[43m    \u001b[49m\u001b[43mdict_like_objects\u001b[49m\u001b[43m,\u001b[49m\n\u001b[32m    979\u001b[39m \u001b[43m    \u001b[49m\u001b[43mcompat\u001b[49m\u001b[43m,\u001b[49m\n\u001b[32m    980\u001b[39m \u001b[43m    \u001b[49m\u001b[43mjoin\u001b[49m\u001b[43m,\u001b[49m\n\u001b[32m    981\u001b[39m \u001b[43m    \u001b[49m\u001b[43mcombine_attrs\u001b[49m\u001b[43m=\u001b[49m\u001b[43mcombine_attrs\u001b[49m\u001b[43m,\u001b[49m\n\u001b[32m    982\u001b[39m \u001b[43m    \u001b[49m\u001b[43mfill_value\u001b[49m\u001b[43m=\u001b[49m\u001b[43mfill_value\u001b[49m\u001b[43m,\u001b[49m\n\u001b[32m    983\u001b[39m \u001b[43m\u001b[49m\u001b[43m)\u001b[49m\n\u001b[32m    984\u001b[39m \u001b[38;5;28;01mreturn\u001b[39;00m Dataset._construct_direct(**merge_result._asdict())\n",
      "\u001b[36mFile \u001b[39m\u001b[32m/exec/edupuis/.mamba/pins-8/lib/python3.13/site-packages/xarray/structure/merge.py:702\u001b[39m, in \u001b[36mmerge_core\u001b[39m\u001b[34m(objects, compat, join, combine_attrs, priority_arg, explicit_coords, indexes, fill_value, skip_align_args)\u001b[39m\n\u001b[32m    700\u001b[39m collected = collect_variables_and_indexes(aligned, indexes=indexes)\n\u001b[32m    701\u001b[39m prioritized = _get_priority_vars_and_indexes(aligned, priority_arg, compat=compat)\n\u001b[32m--> \u001b[39m\u001b[32m702\u001b[39m variables, out_indexes = \u001b[43mmerge_collected\u001b[49m\u001b[43m(\u001b[49m\n\u001b[32m    703\u001b[39m \u001b[43m    \u001b[49m\u001b[43mcollected\u001b[49m\u001b[43m,\u001b[49m\u001b[43m \u001b[49m\u001b[43mprioritized\u001b[49m\u001b[43m,\u001b[49m\u001b[43m \u001b[49m\u001b[43mcompat\u001b[49m\u001b[43m=\u001b[49m\u001b[43mcompat\u001b[49m\u001b[43m,\u001b[49m\u001b[43m \u001b[49m\u001b[43mcombine_attrs\u001b[49m\u001b[43m=\u001b[49m\u001b[43mcombine_attrs\u001b[49m\n\u001b[32m    704\u001b[39m \u001b[43m\u001b[49m\u001b[43m)\u001b[49m\n\u001b[32m    706\u001b[39m dims = calculate_dimensions(variables)\n\u001b[32m    708\u001b[39m coord_names, noncoord_names = determine_coords(coerced)\n",
      "\u001b[36mFile \u001b[39m\u001b[32m/exec/edupuis/.mamba/pins-8/lib/python3.13/site-packages/xarray/structure/merge.py:295\u001b[39m, in \u001b[36mmerge_collected\u001b[39m\u001b[34m(grouped, prioritized, compat, combine_attrs, equals)\u001b[39m\n\u001b[32m    293\u001b[39m variables = [variable \u001b[38;5;28;01mfor\u001b[39;00m variable, _ \u001b[38;5;129;01min\u001b[39;00m elements_list]\n\u001b[32m    294\u001b[39m \u001b[38;5;28;01mtry\u001b[39;00m:\n\u001b[32m--> \u001b[39m\u001b[32m295\u001b[39m     merged_vars[name] = \u001b[43munique_variable\u001b[49m\u001b[43m(\u001b[49m\n\u001b[32m    296\u001b[39m \u001b[43m        \u001b[49m\u001b[43mname\u001b[49m\u001b[43m,\u001b[49m\u001b[43m \u001b[49m\u001b[43mvariables\u001b[49m\u001b[43m,\u001b[49m\u001b[43m \u001b[49m\u001b[43mcompat\u001b[49m\u001b[43m,\u001b[49m\u001b[43m \u001b[49m\u001b[43mequals\u001b[49m\u001b[43m.\u001b[49m\u001b[43mget\u001b[49m\u001b[43m(\u001b[49m\u001b[43mname\u001b[49m\u001b[43m,\u001b[49m\u001b[43m \u001b[49m\u001b[38;5;28;43;01mNone\u001b[39;49;00m\u001b[43m)\u001b[49m\n\u001b[32m    297\u001b[39m \u001b[43m    \u001b[49m\u001b[43m)\u001b[49m\n\u001b[32m    298\u001b[39m \u001b[38;5;28;01mexcept\u001b[39;00m MergeError:\n\u001b[32m    299\u001b[39m     \u001b[38;5;28;01mif\u001b[39;00m compat != \u001b[33m\"\u001b[39m\u001b[33mminimal\u001b[39m\u001b[33m\"\u001b[39m:\n\u001b[32m    300\u001b[39m         \u001b[38;5;66;03m# we need more than \"minimal\" compatibility (for which\u001b[39;00m\n\u001b[32m    301\u001b[39m         \u001b[38;5;66;03m# we drop conflicting coordinates)\u001b[39;00m\n",
      "\u001b[36mFile \u001b[39m\u001b[32m/exec/edupuis/.mamba/pins-8/lib/python3.13/site-packages/xarray/structure/merge.py:144\u001b[39m, in \u001b[36munique_variable\u001b[39m\u001b[34m(name, variables, compat, equals)\u001b[39m\n\u001b[32m    142\u001b[39m out = out.compute()\n\u001b[32m    143\u001b[39m \u001b[38;5;28;01mfor\u001b[39;00m var \u001b[38;5;129;01min\u001b[39;00m variables[\u001b[32m1\u001b[39m:]:\n\u001b[32m--> \u001b[39m\u001b[32m144\u001b[39m     equals = \u001b[38;5;28;43mgetattr\u001b[39;49m\u001b[43m(\u001b[49m\u001b[43mout\u001b[49m\u001b[43m,\u001b[49m\u001b[43m \u001b[49m\u001b[43mcompat\u001b[49m\u001b[43m)\u001b[49m\u001b[43m(\u001b[49m\u001b[43mvar\u001b[49m\u001b[43m)\u001b[49m\n\u001b[32m    145\u001b[39m     \u001b[38;5;28;01mif\u001b[39;00m \u001b[38;5;129;01mnot\u001b[39;00m equals:\n\u001b[32m    146\u001b[39m         \u001b[38;5;28;01mbreak\u001b[39;00m\n",
      "\u001b[36mFile \u001b[39m\u001b[32m/exec/edupuis/.mamba/pins-8/lib/python3.13/site-packages/xarray/core/variable.py:1800\u001b[39m, in \u001b[36mVariable.no_conflicts\u001b[39m\u001b[34m(self, other, equiv)\u001b[39m\n\u001b[32m   1793\u001b[39m \u001b[38;5;28;01mdef\u001b[39;00m\u001b[38;5;250m \u001b[39m\u001b[34mno_conflicts\u001b[39m(\u001b[38;5;28mself\u001b[39m, other, equiv=duck_array_ops.array_notnull_equiv):\n\u001b[32m   1794\u001b[39m \u001b[38;5;250m    \u001b[39m\u001b[33;03m\"\"\"True if the intersection of two Variable's non-null data is\u001b[39;00m\n\u001b[32m   1795\u001b[39m \u001b[33;03m    equal; otherwise false.\u001b[39;00m\n\u001b[32m   1796\u001b[39m \n\u001b[32m   1797\u001b[39m \u001b[33;03m    Variables can thus still be equal if there are locations where either,\u001b[39;00m\n\u001b[32m   1798\u001b[39m \u001b[33;03m    or both, contain NaN values.\u001b[39;00m\n\u001b[32m   1799\u001b[39m \u001b[33;03m    \"\"\"\u001b[39;00m\n\u001b[32m-> \u001b[39m\u001b[32m1800\u001b[39m     \u001b[38;5;28;01mreturn\u001b[39;00m \u001b[38;5;28;43mself\u001b[39;49m\u001b[43m.\u001b[49m\u001b[43mbroadcast_equals\u001b[49m\u001b[43m(\u001b[49m\u001b[43mother\u001b[49m\u001b[43m,\u001b[49m\u001b[43m \u001b[49m\u001b[43mequiv\u001b[49m\u001b[43m=\u001b[49m\u001b[43mequiv\u001b[49m\u001b[43m)\u001b[49m\n",
      "\u001b[36mFile \u001b[39m\u001b[32m/exec/edupuis/.mamba/pins-8/lib/python3.13/site-packages/xarray/core/variable.py:1782\u001b[39m, in \u001b[36mVariable.broadcast_equals\u001b[39m\u001b[34m(self, other, equiv)\u001b[39m\n\u001b[32m   1780\u001b[39m \u001b[38;5;28;01mexcept\u001b[39;00m (\u001b[38;5;167;01mValueError\u001b[39;00m, \u001b[38;5;167;01mAttributeError\u001b[39;00m):\n\u001b[32m   1781\u001b[39m     \u001b[38;5;28;01mreturn\u001b[39;00m \u001b[38;5;28;01mFalse\u001b[39;00m\n\u001b[32m-> \u001b[39m\u001b[32m1782\u001b[39m \u001b[38;5;28;01mreturn\u001b[39;00m \u001b[38;5;28;43mself\u001b[39;49m\u001b[43m.\u001b[49m\u001b[43mequals\u001b[49m\u001b[43m(\u001b[49m\u001b[43mother\u001b[49m\u001b[43m,\u001b[49m\u001b[43m \u001b[49m\u001b[43mequiv\u001b[49m\u001b[43m=\u001b[49m\u001b[43mequiv\u001b[49m\u001b[43m)\u001b[49m\n",
      "\u001b[36mFile \u001b[39m\u001b[32m/exec/edupuis/.mamba/pins-8/lib/python3.13/site-packages/xarray/core/variable.py:1766\u001b[39m, in \u001b[36mVariable.equals\u001b[39m\u001b[34m(self, other, equiv)\u001b[39m\n\u001b[32m   1763\u001b[39m other = \u001b[38;5;28mgetattr\u001b[39m(other, \u001b[33m\"\u001b[39m\u001b[33mvariable\u001b[39m\u001b[33m\"\u001b[39m, other)\n\u001b[32m   1764\u001b[39m \u001b[38;5;28;01mtry\u001b[39;00m:\n\u001b[32m   1765\u001b[39m     \u001b[38;5;28;01mreturn\u001b[39;00m \u001b[38;5;28mself\u001b[39m.dims == other.dims \u001b[38;5;129;01mand\u001b[39;00m (\n\u001b[32m-> \u001b[39m\u001b[32m1766\u001b[39m         \u001b[38;5;28mself\u001b[39m._data \u001b[38;5;129;01mis\u001b[39;00m other._data \u001b[38;5;129;01mor\u001b[39;00m \u001b[43mequiv\u001b[49m\u001b[43m(\u001b[49m\u001b[38;5;28;43mself\u001b[39;49m\u001b[43m.\u001b[49m\u001b[43mdata\u001b[49m\u001b[43m,\u001b[49m\u001b[43m \u001b[49m\u001b[43mother\u001b[49m\u001b[43m.\u001b[49m\u001b[43mdata\u001b[49m\u001b[43m)\u001b[49m\n\u001b[32m   1767\u001b[39m     )\n\u001b[32m   1768\u001b[39m \u001b[38;5;28;01mexcept\u001b[39;00m (\u001b[38;5;167;01mTypeError\u001b[39;00m, \u001b[38;5;167;01mAttributeError\u001b[39;00m):\n\u001b[32m   1769\u001b[39m     \u001b[38;5;28;01mreturn\u001b[39;00m \u001b[38;5;28;01mFalse\u001b[39;00m\n",
      "\u001b[36mFile \u001b[39m\u001b[32m/exec/edupuis/.mamba/pins-8/lib/python3.13/site-packages/xarray/core/duck_array_ops.py:356\u001b[39m, in \u001b[36marray_notnull_equiv\u001b[39m\u001b[34m(arr1, arr2)\u001b[39m\n\u001b[32m    354\u001b[39m         warnings.filterwarnings(\u001b[33m\"\u001b[39m\u001b[33mignore\u001b[39m\u001b[33m\"\u001b[39m, \u001b[33m\"\u001b[39m\u001b[33mIn the future, \u001b[39m\u001b[33m'\u001b[39m\u001b[33mNAT == x\u001b[39m\u001b[33m'\u001b[39m\u001b[33m\"\u001b[39m)\n\u001b[32m    355\u001b[39m         flag_array = (arr1 == arr2) | isnull(arr1) | isnull(arr2)\n\u001b[32m--> \u001b[39m\u001b[32m356\u001b[39m         \u001b[38;5;28;01mreturn\u001b[39;00m \u001b[38;5;28;43mbool\u001b[39;49m\u001b[43m(\u001b[49m\u001b[43marray_all\u001b[49m\u001b[43m(\u001b[49m\u001b[43mflag_array\u001b[49m\u001b[43m)\u001b[49m\u001b[43m)\u001b[49m\n\u001b[32m    357\u001b[39m \u001b[38;5;28;01melse\u001b[39;00m:\n\u001b[32m    358\u001b[39m     \u001b[38;5;28;01mreturn\u001b[39;00m lazy_equiv\n",
      "\u001b[36mFile \u001b[39m\u001b[32m/exec/edupuis/.mamba/pins-8/lib/python3.13/site-packages/dask/array/core.py:1889\u001b[39m, in \u001b[36mArray.__bool__\u001b[39m\u001b[34m(self)\u001b[39m\n\u001b[32m   1884\u001b[39m     \u001b[38;5;28;01mraise\u001b[39;00m \u001b[38;5;167;01mValueError\u001b[39;00m(\n\u001b[32m   1885\u001b[39m         \u001b[33mf\u001b[39m\u001b[33m\"\u001b[39m\u001b[33mThe truth value of a \u001b[39m\u001b[38;5;132;01m{\u001b[39;00m\u001b[38;5;28mself\u001b[39m.\u001b[34m__class__\u001b[39m.\u001b[34m__name__\u001b[39m\u001b[38;5;132;01m}\u001b[39;00m\u001b[33m is ambiguous. \u001b[39m\u001b[33m\"\u001b[39m\n\u001b[32m   1886\u001b[39m         \u001b[33m\"\u001b[39m\u001b[33mUse a.any() or a.all().\u001b[39m\u001b[33m\"\u001b[39m\n\u001b[32m   1887\u001b[39m     )\n\u001b[32m   1888\u001b[39m \u001b[38;5;28;01melse\u001b[39;00m:\n\u001b[32m-> \u001b[39m\u001b[32m1889\u001b[39m     \u001b[38;5;28;01mreturn\u001b[39;00m \u001b[38;5;28mbool\u001b[39m(\u001b[38;5;28;43mself\u001b[39;49m\u001b[43m.\u001b[49m\u001b[43mcompute\u001b[49m\u001b[43m(\u001b[49m\u001b[43m)\u001b[49m)\n",
      "\u001b[36mFile \u001b[39m\u001b[32m/exec/edupuis/.mamba/pins-8/lib/python3.13/site-packages/dask/base.py:373\u001b[39m, in \u001b[36mDaskMethodsMixin.compute\u001b[39m\u001b[34m(self, **kwargs)\u001b[39m\n\u001b[32m    349\u001b[39m \u001b[38;5;28;01mdef\u001b[39;00m\u001b[38;5;250m \u001b[39m\u001b[34mcompute\u001b[39m(\u001b[38;5;28mself\u001b[39m, **kwargs):\n\u001b[32m    350\u001b[39m \u001b[38;5;250m    \u001b[39m\u001b[33;03m\"\"\"Compute this dask collection\u001b[39;00m\n\u001b[32m    351\u001b[39m \n\u001b[32m    352\u001b[39m \u001b[33;03m    This turns a lazy Dask collection into its in-memory equivalent.\u001b[39;00m\n\u001b[32m   (...)\u001b[39m\u001b[32m    371\u001b[39m \u001b[33;03m    dask.compute\u001b[39;00m\n\u001b[32m    372\u001b[39m \u001b[33;03m    \"\"\"\u001b[39;00m\n\u001b[32m--> \u001b[39m\u001b[32m373\u001b[39m     (result,) = \u001b[43mcompute\u001b[49m\u001b[43m(\u001b[49m\u001b[38;5;28;43mself\u001b[39;49m\u001b[43m,\u001b[49m\u001b[43m \u001b[49m\u001b[43mtraverse\u001b[49m\u001b[43m=\u001b[49m\u001b[38;5;28;43;01mFalse\u001b[39;49;00m\u001b[43m,\u001b[49m\u001b[43m \u001b[49m\u001b[43m*\u001b[49m\u001b[43m*\u001b[49m\u001b[43mkwargs\u001b[49m\u001b[43m)\u001b[49m\n\u001b[32m    374\u001b[39m     \u001b[38;5;28;01mreturn\u001b[39;00m result\n",
      "\u001b[36mFile \u001b[39m\u001b[32m/exec/edupuis/.mamba/pins-8/lib/python3.13/site-packages/dask/base.py:681\u001b[39m, in \u001b[36mcompute\u001b[39m\u001b[34m(traverse, optimize_graph, scheduler, get, *args, **kwargs)\u001b[39m\n\u001b[32m    678\u001b[39m     expr = expr.optimize()\n\u001b[32m    679\u001b[39m     keys = \u001b[38;5;28mlist\u001b[39m(flatten(expr.__dask_keys__()))\n\u001b[32m--> \u001b[39m\u001b[32m681\u001b[39m     results = \u001b[43mschedule\u001b[49m\u001b[43m(\u001b[49m\u001b[43mexpr\u001b[49m\u001b[43m,\u001b[49m\u001b[43m \u001b[49m\u001b[43mkeys\u001b[49m\u001b[43m,\u001b[49m\u001b[43m \u001b[49m\u001b[43m*\u001b[49m\u001b[43m*\u001b[49m\u001b[43mkwargs\u001b[49m\u001b[43m)\u001b[49m\n\u001b[32m    683\u001b[39m \u001b[38;5;28;01mreturn\u001b[39;00m repack(results)\n",
      "\u001b[36mFile \u001b[39m\u001b[32m/exec/edupuis/.mamba/pins-8/lib/python3.13/queue.py:202\u001b[39m, in \u001b[36mQueue.get\u001b[39m\u001b[34m(self, block, timeout)\u001b[39m\n\u001b[32m    200\u001b[39m \u001b[38;5;28;01melif\u001b[39;00m timeout \u001b[38;5;129;01mis\u001b[39;00m \u001b[38;5;28;01mNone\u001b[39;00m:\n\u001b[32m    201\u001b[39m     \u001b[38;5;28;01mwhile\u001b[39;00m \u001b[38;5;129;01mnot\u001b[39;00m \u001b[38;5;28mself\u001b[39m._qsize():\n\u001b[32m--> \u001b[39m\u001b[32m202\u001b[39m         \u001b[38;5;28;43mself\u001b[39;49m\u001b[43m.\u001b[49m\u001b[43mnot_empty\u001b[49m\u001b[43m.\u001b[49m\u001b[43mwait\u001b[49m\u001b[43m(\u001b[49m\u001b[43m)\u001b[49m\n\u001b[32m    203\u001b[39m         \u001b[38;5;28;01mif\u001b[39;00m \u001b[38;5;28mself\u001b[39m.is_shutdown \u001b[38;5;129;01mand\u001b[39;00m \u001b[38;5;129;01mnot\u001b[39;00m \u001b[38;5;28mself\u001b[39m._qsize():\n\u001b[32m    204\u001b[39m             \u001b[38;5;28;01mraise\u001b[39;00m ShutDown\n",
      "\u001b[36mFile \u001b[39m\u001b[32m/exec/edupuis/.mamba/pins-8/lib/python3.13/threading.py:359\u001b[39m, in \u001b[36mCondition.wait\u001b[39m\u001b[34m(self, timeout)\u001b[39m\n\u001b[32m    357\u001b[39m \u001b[38;5;28;01mtry\u001b[39;00m:    \u001b[38;5;66;03m# restore state no matter what (e.g., KeyboardInterrupt)\u001b[39;00m\n\u001b[32m    358\u001b[39m     \u001b[38;5;28;01mif\u001b[39;00m timeout \u001b[38;5;129;01mis\u001b[39;00m \u001b[38;5;28;01mNone\u001b[39;00m:\n\u001b[32m--> \u001b[39m\u001b[32m359\u001b[39m         \u001b[43mwaiter\u001b[49m\u001b[43m.\u001b[49m\u001b[43macquire\u001b[49m\u001b[43m(\u001b[49m\u001b[43m)\u001b[49m\n\u001b[32m    360\u001b[39m         gotit = \u001b[38;5;28;01mTrue\u001b[39;00m\n\u001b[32m    361\u001b[39m     \u001b[38;5;28;01melse\u001b[39;00m:\n",
      "\u001b[31mKeyboardInterrupt\u001b[39m: "
     ]
    }
   ],
   "source": [
    "# ref = ref[0]\n",
    "# sims = xr.merge([s.convert_calendar(\"365_day\", align_on=\"year\") for s in sims])"
   ]
  },
  {
   "cell_type": "code",
   "execution_count": null,
   "id": "97e68fad-4b32-4a3f-a267-80723a85791d",
   "metadata": {},
   "outputs": [],
   "source": []
  }
 ],
 "metadata": {
  "kernelspec": {
   "display_name": "Python 3 (ipykernel)",
   "language": "python",
   "name": "python3"
  },
  "language_info": {
   "codemirror_mode": {
    "name": "ipython",
    "version": 3
   },
   "file_extension": ".py",
   "mimetype": "text/x-python",
   "name": "python",
   "nbconvert_exporter": "python",
   "pygments_lexer": "ipython3",
   "version": "3.13.3"
  }
 },
 "nbformat": 4,
 "nbformat_minor": 5
}
